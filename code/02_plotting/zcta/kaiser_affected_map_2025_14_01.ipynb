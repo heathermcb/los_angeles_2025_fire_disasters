{
 "cells": [
  {
   "cell_type": "code",
   "execution_count": null,
   "metadata": {},
   "outputs": [],
   "source": [
    "import requests\n",
    "import os\n",
    "from datetime import datetime\n",
    "from pathlib import Path\n",
    "import pyarrow\n",
    "import geopandas as gpd \n",
    "import pandas as pd \n",
    "import matplotlib.pyplot as plt\n",
    "from shapely.ops import unary_union\n",
    "import contextily as cx\n",
    "import seaborn as sns\n",
    "\n",
    "def strip_axes(ax):\n",
    "    \"\"\"Despine axis and remove ticks and labels.\"\"\"\n",
    "    sns.despine(ax=ax, left=True, bottom=True)\n",
    "    ax.set_xticks([])\n",
    "    ax.set_yticks([])\n",
    "    return ax\n",
    "\n",
    "root_dir = Path(\"~/Desktop/Desktop/epidemiology_PhD/00_repos/\").expanduser()\n",
    "# root_dir = \"/Volumes/squirrel-utopia 1/los_angeles_2025_fire_disasters_exp/\""
   ]
  },
  {
   "cell_type": "code",
   "execution_count": null,
   "metadata": {},
   "outputs": [],
   "source": [
    "# Ready to read data\n",
    "data_dir = root_dir / \"los_angeles_2025_fire_disasters_exp/data\"\n",
    "\n",
    "sep_fires_path =  data_dir / \"sep_fires.parquet\"\n",
    "kaiser_affected_path = data_dir / \"num_kaiser_pop_age_60_affected_la_wf.csv\"\n",
    "zctas_path = data_dir / \"zctas_2020.parquet\"\n",
    "\n",
    "fires = gpd.read_parquet(sep_fires_path).to_crs(\"EPSG:3857\")\n",
    "kaiser_affected = pd.read_csv(kaiser_affected_path)\n",
    "zctas = gpd.read_parquet(zctas_path).assign(zcta = lambda x: x.zcta.astype(int)).to_crs(\"EPSG:3857\")"
   ]
  },
  {
   "cell_type": "code",
   "execution_count": null,
   "metadata": {},
   "outputs": [],
   "source": [
    "kaiser_zctas = zctas.merge(kaiser_affected, on = \"zcta\", how = \"inner\").dissolve(by = \"zcta\", aggfunc = \"sum\")\n",
    "kaiser_zctas['ppl_affected_bin'] = pd.cut(kaiser_zctas['ppl_affected'], bins = [0, 10, 25, 100, 250, 500, 1000, 2000], labels = [\"0-10\", \"10-25\", \"25-100\", \"100-250\", \"250-500\", \"500-1000\", \"1000-2000\"], include_lowest = True, right = False)\n",
    "kaiser_zctas['zcta_centroid'] = kaiser_zctas.centroid\n",
    "kaiser_zctas = kaiser_zctas.reset_index()"
   ]
  },
  {
   "cell_type": "code",
   "execution_count": null,
   "metadata": {},
   "outputs": [],
   "source": [
    "fig, ax = plt.subplots(figsize = (15, 15))\n",
    "kaiser_zctas.plot(\"ppl_affected_bin\", ax = ax, legend = True, alpha = 0.6, cmap = \"viridis\", legend_kwds = {\"loc\": \"upper left\"}, edgecolor = \"lightgrey\")\n",
    "fires.boundary.plot(ax = ax, color = \"red\", linewidth = .7)\n",
    "cx.add_basemap(ax, source=cx.providers.CartoDB.Positron)\n",
    "ax.set_title(\"Kaiser beneficiaries affected by fires in LA County\\n14 January 2025\")\n",
    "item =list(kaiser_zctas.itertuples())[0]\n",
    "strip_axes(ax)\n",
    "for idx, row in list(kaiser_zctas.to_crs(\"EPSG:3857\").iterrows()):\n",
    "    centroid = row[\"zcta_centroid\"]\n",
    "    ax.text(\n",
    "        centroid.x,\n",
    "        centroid.y,\n",
    "        str(row[\"zcta\"]),\n",
    "        fontsize = 7\n",
    "    )"
   ]
  },
  {
   "cell_type": "code",
   "execution_count": null,
   "metadata": {},
   "outputs": [],
   "source": []
  }
 ],
 "metadata": {
  "kernelspec": {
   "display_name": "la_fire",
   "language": "python",
   "name": "python3"
  },
  "language_info": {
   "codemirror_mode": {
    "name": "ipython",
    "version": 3
   },
   "file_extension": ".py",
   "mimetype": "text/x-python",
   "name": "python",
   "nbconvert_exporter": "python",
   "pygments_lexer": "ipython3",
   "version": "3.10.16"
  }
 },
 "nbformat": 4,
 "nbformat_minor": 2
}
