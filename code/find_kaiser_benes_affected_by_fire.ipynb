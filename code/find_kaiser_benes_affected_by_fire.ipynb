{
 "cells": [
  {
   "cell_type": "code",
   "execution_count": 21,
   "metadata": {},
   "outputs": [],
   "source": [
    "import requests\n",
    "import os\n",
    "from datetime import datetime\n",
    "from pathlib import Path\n",
    "import pyarrow\n",
    "import geopandas as gpd \n",
    "import pandas as pd \n",
    "import matplotlib.pyplot as plt\n",
    "\n",
    "root_dir = \"~/Desktop/Desktop/epidemiology_PhD/00_repos/\"\n",
    "# root_dir = \"/Volumes/squirrel-utopia 1/los_angeles_2025_fire_disasters_exp/\""
   ]
  },
  {
   "cell_type": "code",
   "execution_count": 22,
   "metadata": {},
   "outputs": [],
   "source": [
    "# Download latest fire boundaries from CalFire on ARCGIS API\n",
    "url = \"https://hub.arcgis.com/api/v3/datasets/025fb2ea05f14890b2b11573341b5b18_0/downloads/data?format=geojson&spatialRefId=4326&where=1%3D1\"\n",
    "output_dir = root_dir + \"los_angeles_2025_fire_disasters_exp/data/calfire_boundaries\"\n",
    "data_dir = root_dir + \"los_angeles_2025_fire_disasters_exp/data\""
   ]
  },
  {
   "cell_type": "code",
   "execution_count": 23,
   "metadata": {},
   "outputs": [
    {
     "name": "stdout",
     "output_type": "stream",
     "text": [
      "data_2025_01_14.geojson\n",
      "~/Desktop/Desktop/epidemiology_PhD/00_repos/los_angeles_2025_fire_disasters_exp/data/calfire_boundaries/data_2025_01_14.geojson\n"
     ]
    }
   ],
   "source": [
    "# generate a filename with the current date\n",
    "filename = f\"data_{datetime.now().strftime('%Y_%m_%d')}.geojson\"\n",
    "output_path = os.path.join(output_dir, filename)\n",
    "\n",
    "# check \n",
    "print(filename)\n",
    "print(output_path)"
   ]
  },
  {
   "cell_type": "code",
   "execution_count": 13,
   "metadata": {},
   "outputs": [],
   "source": [
    "# Download the file\n",
    "response = requests.get(url)\n",
    "# Check if the request was successful\n",
    "response.raise_for_status()  "
   ]
  },
  {
   "cell_type": "code",
   "execution_count": 25,
   "metadata": {},
   "outputs": [
    {
     "ename": "FileNotFoundError",
     "evalue": "[Errno 2] No such file or directory: '~/Desktop/Desktop/epidemiology_PhD/00_repos/los_angeles_2025_fire_disasters_exp/data/calfire_boundaries/data_2025_01_14.geojson'",
     "output_type": "error",
     "traceback": [
      "\u001b[0;31m---------------------------------------------------------------------------\u001b[0m",
      "\u001b[0;31mFileNotFoundError\u001b[0m                         Traceback (most recent call last)",
      "Cell \u001b[0;32mIn[25], line 2\u001b[0m\n\u001b[1;32m      1\u001b[0m \u001b[38;5;66;03m# Save\u001b[39;00m\n\u001b[0;32m----> 2\u001b[0m \u001b[38;5;28;01mwith\u001b[39;00m \u001b[38;5;28;43mopen\u001b[39;49m\u001b[43m(\u001b[49m\u001b[43moutput_path\u001b[49m\u001b[43m,\u001b[49m\u001b[43m \u001b[49m\u001b[38;5;124;43m\"\u001b[39;49m\u001b[38;5;124;43mwb\u001b[39;49m\u001b[38;5;124;43m\"\u001b[39;49m\u001b[43m)\u001b[49m \u001b[38;5;28;01mas\u001b[39;00m file:\n\u001b[1;32m      3\u001b[0m     file\u001b[38;5;241m.\u001b[39mwrite(response\u001b[38;5;241m.\u001b[39mcontent)\n\u001b[1;32m      5\u001b[0m \u001b[38;5;66;03m# lbw this doesnt work for me! i did it manually\u001b[39;00m\n",
      "File \u001b[0;32m~/opt/miniconda3/envs/la_fire/lib/python3.10/site-packages/IPython/core/interactiveshell.py:324\u001b[0m, in \u001b[0;36m_modified_open\u001b[0;34m(file, *args, **kwargs)\u001b[0m\n\u001b[1;32m    317\u001b[0m \u001b[38;5;28;01mif\u001b[39;00m file \u001b[38;5;129;01min\u001b[39;00m {\u001b[38;5;241m0\u001b[39m, \u001b[38;5;241m1\u001b[39m, \u001b[38;5;241m2\u001b[39m}:\n\u001b[1;32m    318\u001b[0m     \u001b[38;5;28;01mraise\u001b[39;00m \u001b[38;5;167;01mValueError\u001b[39;00m(\n\u001b[1;32m    319\u001b[0m         \u001b[38;5;124mf\u001b[39m\u001b[38;5;124m\"\u001b[39m\u001b[38;5;124mIPython won\u001b[39m\u001b[38;5;124m'\u001b[39m\u001b[38;5;124mt let you open fd=\u001b[39m\u001b[38;5;132;01m{\u001b[39;00mfile\u001b[38;5;132;01m}\u001b[39;00m\u001b[38;5;124m by default \u001b[39m\u001b[38;5;124m\"\u001b[39m\n\u001b[1;32m    320\u001b[0m         \u001b[38;5;124m\"\u001b[39m\u001b[38;5;124mas it is likely to crash IPython. If you know what you are doing, \u001b[39m\u001b[38;5;124m\"\u001b[39m\n\u001b[1;32m    321\u001b[0m         \u001b[38;5;124m\"\u001b[39m\u001b[38;5;124myou can use builtins\u001b[39m\u001b[38;5;124m'\u001b[39m\u001b[38;5;124m open.\u001b[39m\u001b[38;5;124m\"\u001b[39m\n\u001b[1;32m    322\u001b[0m     )\n\u001b[0;32m--> 324\u001b[0m \u001b[38;5;28;01mreturn\u001b[39;00m \u001b[43mio_open\u001b[49m\u001b[43m(\u001b[49m\u001b[43mfile\u001b[49m\u001b[43m,\u001b[49m\u001b[43m \u001b[49m\u001b[38;5;241;43m*\u001b[39;49m\u001b[43margs\u001b[49m\u001b[43m,\u001b[49m\u001b[43m \u001b[49m\u001b[38;5;241;43m*\u001b[39;49m\u001b[38;5;241;43m*\u001b[39;49m\u001b[43mkwargs\u001b[49m\u001b[43m)\u001b[49m\n",
      "\u001b[0;31mFileNotFoundError\u001b[0m: [Errno 2] No such file or directory: '~/Desktop/Desktop/epidemiology_PhD/00_repos/los_angeles_2025_fire_disasters_exp/data/calfire_boundaries/data_2025_01_14.geojson'"
     ]
    }
   ],
   "source": [
    "# Save\n",
    "# with open(output_path, \"wb\") as file:\n",
    "#     file.write(response.content)\n",
    "\n",
    "# lbw this doesnt work for me! i did it manually"
   ]
  },
  {
   "cell_type": "code",
   "execution_count": 24,
   "metadata": {},
   "outputs": [],
   "source": [
    "# Read in data - contains wf data going back to 2024 or 2023 - want only \n",
    "# dates since January 7th, 2025\n",
    "fires = gpd.read_file(output_path)\n",
    "fires = fires[fires['poly_DateCurrent'] > '2025-01-06']"
   ]
  },
  {
   "cell_type": "code",
   "execution_count": 26,
   "metadata": {},
   "outputs": [
    {
     "data": {
      "text/plain": [
       "<Axes: >"
      ]
     },
     "execution_count": 26,
     "metadata": {},
     "output_type": "execute_result"
    },
    {
     "data": {
      "image/png": "[encoded data removed]",
      "text/plain": [
       "<Figure size 640x480 with 1 Axes>"
      ]
     },
     "metadata": {},
     "output_type": "display_data"
    }
   ],
   "source": [
    "# Plot fires\n",
    "fires.plot()"
   ]
  },
  {
   "cell_type": "code",
   "execution_count": 193,
   "metadata": {},
   "outputs": [],
   "source": [
    "# Let's list them: \n",
    "# - Palisades Fire\n",
    "# - Eaton Fire\n",
    "# - Hurst Fire \n",
    "# - Auto Fire\n",
    "# - Sunset Fire\n",
    "# - Lidia Fire\n",
    "# - Archer Fire \n",
    "# - Kenneth Fire\n",
    "# as of Jan 14th, 2024"
   ]
  },
  {
   "cell_type": "code",
   "execution_count": 194,
   "metadata": {},
   "outputs": [
    {
     "name": "stdout",
     "output_type": "stream",
     "text": [
      "      OBJECTID                              GlobalID            type  \\\n",
      "1175      1262  7ee0ab36-f6af-4ca9-96ed-170ebc0b0ba0  Heat Perimeter   \n",
      "1176      1263  f4b2a2f8-b549-425a-8420-e11c78a5a9da  Heat Perimeter   \n",
      "1177      1264  0bc1ddb3-63bf-4fd8-a01b-d522f57e4083  Heat Perimeter   \n",
      "1178      1265  80a365ca-2de5-434e-8bd8-195405caefec  Heat Perimeter   \n",
      "1179      1266  34c2af2a-54f0-4830-a99e-bd47edb2b503  Heat Perimeter   \n",
      "1180      1267  98243b68-f4d5-4467-b19f-cf88106e18e7  Heat Perimeter   \n",
      "1181      1268  0d7d92b4-e5b5-464e-a02b-e70dbd80d06d  Heat Perimeter   \n",
      "1182      1269  92579339-7dd4-4dd8-95c5-910ef0bb2c07  Heat Perimeter   \n",
      "1183      1270  38e2219f-62eb-45f1-9016-8c3046633b97  Heat Perimeter   \n",
      "1184      1271  77755bff-6eb1-4e42-9809-1ad373ce6bdc  Heat Perimeter   \n",
      "1185      1272  feb591e5-3665-47a4-b745-5787b15b5c84  Heat Perimeter   \n",
      "1186      1273  f7dffefc-992a-49d0-84e9-15f92126fc04  Heat Perimeter   \n",
      "1187      1274  6e9f9314-31fa-4114-b005-62effc0f7e29  Heat Perimeter   \n",
      "1188      1275  ee25659b-a913-4a7c-a4ff-79366b3d642d  Heat Perimeter   \n",
      "1189      1276  6090d173-f1b5-4f8e-8a32-ab938d19d7a6  Heat Perimeter   \n",
      "1190      1277  f0c933b9-4c8a-451b-8f14-2de84708e39d  Heat Perimeter   \n",
      "1191      1278  6fce1f7a-133e-4533-939d-2d3f9fe03638  Heat Perimeter   \n",
      "1192      1279  38e3fa2f-7ebf-49c7-b66b-f056bd2c113a  Heat Perimeter   \n",
      "1193      1280  6de00c82-ffc9-45db-877f-f3050cc91fc1  Heat Perimeter   \n",
      "1194      1281  399a8e98-ad81-4e94-bed5-59919e9b71fe  Heat Perimeter   \n",
      "1195      1282  52881133-4459-4cc5-aa8c-d6d4c6f72b21  Heat Perimeter   \n",
      "1196      1283  c39f3bf1-3f11-4357-9e52-208e03ec1087  Heat Perimeter   \n",
      "1197      1284  541c6500-78f9-48d9-92c6-f9fb4f391492  Heat Perimeter   \n",
      "1198      1285  0fc2337d-80a3-408a-8187-df736f6c9dbe  Heat Perimeter   \n",
      "1199      1286  143decc2-4c8f-468e-88ec-2dc575008bb2  Heat Perimeter   \n",
      "1200      1287  6d49f57d-5702-45f2-a1b3-e36a8e1ed97c  Heat Perimeter   \n",
      "1201      1288  1f59de11-923c-4081-8145-c9152cd4d865  Heat Perimeter   \n",
      "1202      1289  b4d14153-fb41-4e5e-8be6-4d910df154b6  Heat Perimeter   \n",
      "1203      1290  77e24e42-336b-4743-8a60-ae9b5cb26aa1  Heat Perimeter   \n",
      "1204      1291  65fddb93-6376-436a-8f3e-176d5d38e416  Heat Perimeter   \n",
      "\n",
      "                          source                 poly_DateCurrent  \\\n",
      "1175                       FIRIS 2025-01-07 22:11:19.142000+00:00   \n",
      "1176                       FIRIS 2025-01-07 23:17:35.698000+00:00   \n",
      "1177                       FIRIS 2025-01-07 23:17:39.454000+00:00   \n",
      "1178                       FIRIS 2025-01-08 02:17:53.772000+00:00   \n",
      "1179                       FIRIS 2025-01-08 21:07:37.385000+00:00   \n",
      "1180                       FIRIS 2025-01-08 21:07:37.385000+00:00   \n",
      "1181                       FIRIS 2025-01-09 01:30:54.185000+00:00   \n",
      "1182                       FIRIS 2025-01-09 02:03:18.923000+00:00   \n",
      "1183                       FIRIS 2025-01-09 02:29:10.844000+00:00   \n",
      "1184                       FIRIS 2025-01-09 03:36:14.752000+00:00   \n",
      "1185                       FIRIS 2025-01-09 05:35:41.395000+00:00   \n",
      "1186                       FIRIS 2025-01-09 05:55:15.299000+00:00   \n",
      "1187                       FIRIS 2025-01-09 06:58:57.665000+00:00   \n",
      "1188  CAL FIRE INTEL FLIGHT DATA        2025-01-09 23:23:49+00:00   \n",
      "1189  CAL FIRE INTEL FLIGHT DATA        2025-01-09 22:45:07+00:00   \n",
      "1190  CAL FIRE INTEL FLIGHT DATA        2025-01-09 23:47:55+00:00   \n",
      "1191  CAL FIRE INTEL FLIGHT DATA        2025-01-09 23:43:22+00:00   \n",
      "1192  CAL FIRE INTEL FLIGHT DATA        2025-01-10 00:00:02+00:00   \n",
      "1193                       FIRIS 2025-01-10 00:30:31.906000+00:00   \n",
      "1194                       FIRIS 2025-01-10 00:39:08.763000+00:00   \n",
      "1195                       FIRIS 2025-01-10 00:50:20.640000+00:00   \n",
      "1196                       FIRIS 2025-01-10 01:25:52.899000+00:00   \n",
      "1197                       FIRIS 2025-01-10 14:00:50.686000+00:00   \n",
      "1198                       FIRIS 2025-01-10 14:23:05.566000+00:00   \n",
      "1199                       FIRIS 2025-01-10 19:58:23.620000+00:00   \n",
      "1200                        NIFC        2025-01-08 14:31:44+00:00   \n",
      "1201                       FIRIS 2025-01-11 06:24:28.606000+00:00   \n",
      "1202                       FIRIS 2025-01-11 07:10:56.707000+00:00   \n",
      "1203                       FIRIS 2025-01-11 15:38:33.972000+00:00   \n",
      "1204                       FIRIS 2025-01-14 07:19:31.222000+00:00   \n",
      "\n",
      "                    mission incident_name    incident_number    area_acres  \\\n",
      "1175  CA-LFD-PALISADES-N57B          None               None    771.572356   \n",
      "1176  CA-LFD-PALISADES-N57B          None               None   1261.520779   \n",
      "1177  CA-LFD-PALISADES-N57B          None               None   1261.520779   \n",
      "1178  CA-LFD-PALISADES-N57B          None               None   2920.451532   \n",
      "1179  CA-LFD-PALISADES-N57B          None               None  15832.376531   \n",
      "1180  CA-LFD-PALISADES-N57B          None               None  15832.376531   \n",
      "1181      CA-LAC-LIDIA-N57B          None               None    347.704224   \n",
      "1182     CA-LFD-SUNSET-N57B          None               None     19.840078   \n",
      "1183      CA-LAC-EATON-N57B          None               None  10589.956010   \n",
      "1184      CA-LFD-HURST-N57B          None               None    663.395358   \n",
      "1185     CA-LFD-SUNSET-N40Y          None               None     42.770648   \n",
      "1186   CA-LFD-SUNSWEPT-N40Y          None               None      0.530115   \n",
      "1187  CA-LFD-PALISADES-N40Y          None               None  17234.233960   \n",
      "1188                KENNETH       KENNETH                       297.090000   \n",
      "1189              Palisades     Palisades                     19058.681341   \n",
      "1190                  HURST         HURST                       831.390000   \n",
      "1191                  HURST         HURST                       831.390000   \n",
      "1192                  Eaton         Eaton                     13299.260000   \n",
      "1193         CA-VNC-KENNETH          None               None  18025.981317   \n",
      "1194         CA-VNC-KENNETH          None               None    791.277573   \n",
      "1195    CA-VNC-KENNETH-N40Y          None               None    791.249359   \n",
      "1196    CA-VNC-KENNETH-N40Y          None               None    959.722647   \n",
      "1197  CA-LFD-PALISADES-N40Y          None               None  20438.176164   \n",
      "1198      CA-LFD-EATON-N40Y          None               None  13956.367609   \n",
      "1199     CA-LFD-ARCHER-N40Y          None               None     18.756262   \n",
      "1200      2025-CALFD-000738     PALISADES  2025-CALFD-000738  21317.000000   \n",
      "1201  CA-LFD-PALISADES-N40Y          None               None  21595.790548   \n",
      "1202      CA-LFD-EATON-N40Y          None               None  13993.151114   \n",
      "1203  CA-LFD-PALISADES-N40Y          None               None  22660.483014   \n",
      "1204       CA-VNC-AUTO-N40Y          None               None     55.696310   \n",
      "\n",
      "                        description         FireDiscoveryDate  \\\n",
      "1175                FIRIS Perimeter                       NaT   \n",
      "1176                FIRIS Perimeter                       NaT   \n",
      "1177                FIRIS Perimeter                       NaT   \n",
      "1178                FIRIS Perimeter                       NaT   \n",
      "1179                FIRIS Perimeter                       NaT   \n",
      "1180                FIRIS Perimeter                       NaT   \n",
      "1181                FIRIS Perimeter                       NaT   \n",
      "1182                FIRIS Perimeter                       NaT   \n",
      "1183                FIRIS Perimeter                       NaT   \n",
      "1184                FIRIS Perimeter                       NaT   \n",
      "1185                FIRIS Perimeter                       NaT   \n",
      "1186                FIRIS Perimeter                       NaT   \n",
      "1187                FIRIS Perimeter                       NaT   \n",
      "1188                  Mixed Methods                       NaT   \n",
      "1189                  Mixed Methods                       NaT   \n",
      "1190                  Mixed Methods                       NaT   \n",
      "1191                  Mixed Methods                       NaT   \n",
      "1192                  Mixed Methods                       NaT   \n",
      "1193                FIRIS Perimeter                       NaT   \n",
      "1194                FIRIS Perimeter                       NaT   \n",
      "1195                FIRIS Perimeter                       NaT   \n",
      "1196                FIRIS Perimeter                       NaT   \n",
      "1197                FIRIS Perimeter                       NaT   \n",
      "1198                FIRIS Perimeter                       NaT   \n",
      "1199                FIRIS Perimeter                       NaT   \n",
      "1200  Wildfire Daily Fire Perimeter 2025-01-07 18:38:00+00:00   \n",
      "1201                FIRIS Perimeter                       NaT   \n",
      "1202                FIRIS Perimeter                       NaT   \n",
      "1203                FIRIS Perimeter                       NaT   \n",
      "1204                FIRIS Perimeter                       NaT   \n",
      "\n",
      "                         CreationDate                  EditDate displayStatus  \\\n",
      "1175        2025-01-07 22:09:29+00:00                       NaT        Active   \n",
      "1176        2025-01-07 23:13:25+00:00                       NaT        Active   \n",
      "1177        2025-01-07 23:13:25+00:00                       NaT        Active   \n",
      "1178        2025-01-08 02:15:44+00:00                       NaT        Active   \n",
      "1179        2025-01-08 21:05:56+00:00                       NaT        Active   \n",
      "1180        2025-01-08 21:05:56+00:00                       NaT        Active   \n",
      "1181        2025-01-09 01:26:26+00:00                       NaT        Active   \n",
      "1182        2025-01-09 02:00:39+00:00                       NaT        Active   \n",
      "1183        2025-01-09 02:27:13+00:00                       NaT        Active   \n",
      "1184        2025-01-09 03:34:24+00:00                       NaT        Active   \n",
      "1185        2025-01-09 05:33:51+00:00                       NaT        Active   \n",
      "1186        2025-01-09 05:53:14+00:00                       NaT        Active   \n",
      "1187        2025-01-09 06:57:21+00:00                       NaT        Active   \n",
      "1188                              NaT                       NaT        Active   \n",
      "1189                              NaT                       NaT        Active   \n",
      "1190                              NaT                       NaT        Active   \n",
      "1191                              NaT                       NaT        Active   \n",
      "1192                              NaT                       NaT        Active   \n",
      "1193        2025-01-10 00:29:26+00:00                       NaT        Active   \n",
      "1194        2025-01-10 00:37:13+00:00                       NaT        Active   \n",
      "1195        2025-01-10 00:48:35+00:00                       NaT        Active   \n",
      "1196        2025-01-10 01:24:12+00:00                       NaT        Active   \n",
      "1197        2025-01-10 13:59:04+00:00                       NaT        Active   \n",
      "1198        2025-01-10 14:22:08+00:00                       NaT        Active   \n",
      "1199        2025-01-10 19:57:20+00:00                       NaT        Active   \n",
      "1200 2025-01-08 06:00:47.376000+00:00 2025-01-11 05:28:47+00:00        Active   \n",
      "1201        2025-01-11 06:21:48+00:00                       NaT        Active   \n",
      "1202        2025-01-11 07:09:33+00:00                       NaT        Active   \n",
      "1203        2025-01-11 15:36:50+00:00                       NaT        Active   \n",
      "1204        2025-01-14 07:17:19+00:00                       NaT        Active   \n",
      "\n",
      "                                               geometry  \n",
      "1175  MULTIPOLYGON (((-118.55 34.062, -118.55 34.062...  \n",
      "1176  MULTIPOLYGON (((-118.55 34.062, -118.55 34.062...  \n",
      "1177  MULTIPOLYGON (((-118.55 34.062, -118.55 34.062...  \n",
      "1178  MULTIPOLYGON (((-118.55 34.064, -118.55 34.064...  \n",
      "1179  MULTIPOLYGON (((-118.55 34.061, -118.55 34.061...  \n",
      "1180  MULTIPOLYGON (((-118.55 34.061, -118.55 34.061...  \n",
      "1181  POLYGON ((-118.26 34.434, -118.26 34.434, -118...  \n",
      "1182  MULTIPOLYGON (((-118.35 34.107, -118.35 34.107...  \n",
      "1183  MULTIPOLYGON (((-118.07 34.209, -118.07 34.209...  \n",
      "1184  MULTIPOLYGON (((-118.48 34.326, -118.48 34.326...  \n",
      "1185  MULTIPOLYGON (((-118.35 34.106, -118.35 34.106...  \n",
      "1186  MULTIPOLYGON (((-118.41 34.139, -118.41 34.139...  \n",
      "1187  MULTIPOLYGON (((-118.35 34.106, -118.35 34.106...  \n",
      "1188  MULTIPOLYGON (((-118.68 34.171, -118.68 34.171...  \n",
      "1189  MULTIPOLYGON (((-118.35 34.106, -118.35 34.106...  \n",
      "1190  POLYGON ((-118.47 34.331, -118.47 34.331, -118...  \n",
      "1191  POLYGON ((-118.47 34.331, -118.47 34.331, -118...  \n",
      "1192  MULTIPOLYGON (((-118.1 34.166, -118.1 34.166, ...  \n",
      "1193  MULTIPOLYGON (((-118.69 34.161, -118.69 34.161...  \n",
      "1194  MULTIPOLYGON (((-118.69 34.161, -118.69 34.161...  \n",
      "1195  POLYGON ((-118.69 34.161, -118.69 34.161, -118...  \n",
      "1196  POLYGON ((-118.67 34.177, -118.67 34.177, -118...  \n",
      "1197  MULTIPOLYGON (((-118.57 34.047, -118.57 34.047...  \n",
      "1198  MULTIPOLYGON (((-118.08 34.238, -118.08 34.238...  \n",
      "1199  MULTIPOLYGON (((-118.51 34.311, -118.51 34.311...  \n",
      "1200  MULTIPOLYGON (((-118.56 34.044, -118.56 34.044...  \n",
      "1201  MULTIPOLYGON (((-118.51 34.117, -118.51 34.117...  \n",
      "1202  MULTIPOLYGON (((-118.08 34.238, -118.08 34.238...  \n",
      "1203  MULTIPOLYGON (((-118.51 34.117, -118.51 34.117...  \n",
      "1204  MULTIPOLYGON (((-119.21 34.236, -119.21 34.236...  \n"
     ]
    }
   ],
   "source": [
    "# need to get the largest burned area for each fire\n",
    "# want to union all geometries together \n",
    "print(fires)"
   ]
  },
  {
   "cell_type": "code",
   "execution_count": 27,
   "metadata": {},
   "outputs": [
    {
     "name": "stdout",
     "output_type": "stream",
     "text": [
      "                                            geometry\n",
      "0  MULTIPOLYGON (((-118.56123 34.04269, -118.5612...\n"
     ]
    },
    {
     "name": "stderr",
     "output_type": "stream",
     "text": [
      "/var/folders/mc/55lz7g3949x4ls_9cf39hsxc0000gn/T/ipykernel_36783/561589912.py:2: DeprecationWarning: The 'unary_union' attribute is deprecated, use the 'union_all()' method instead.\n",
      "  merged_fires = fires.geometry.unary_union\n"
     ]
    }
   ],
   "source": [
    "# Perform unary union to merge intersecting polygons\n",
    "merged_fires = fires.geometry.unary_union\n",
    "\n",
    "# If you want to convert the result back to a GeoDataFrame\n",
    "merged_fires = gpd.GeoDataFrame(geometry=[merged_fires], crs=fires.crs)\n",
    "print(merged_fires)"
   ]
  },
  {
   "cell_type": "code",
   "execution_count": 28,
   "metadata": {},
   "outputs": [
    {
     "data": {
      "text/plain": [
       "<Axes: >"
      ]
     },
     "execution_count": 28,
     "metadata": {},
     "output_type": "execute_result"
    },
    {
     "data": {
      "image/png": "[encoded data removed]",
      "text/plain": [
       "<Figure size 640x480 with 1 Axes>"
      ]
     },
     "metadata": {},
     "output_type": "display_data"
    }
   ],
   "source": [
    "# plot merged fires\n",
    "merged_fires.plot()"
   ]
  },
  {
   "cell_type": "code",
   "execution_count": 30,
   "metadata": {},
   "outputs": [
    {
     "data": {
      "text/plain": [
       "'~/Desktop/Desktop/epidemiology_PhD/00_repos/los_angeles_2025_fire_disasters_exp/data/zctas_2020.parquet'"
      ]
     },
     "execution_count": 30,
     "metadata": {},
     "output_type": "execute_result"
    }
   ],
   "source": [
    "# Read in ZCTA data \n",
    "zcta_path = os.path.join(data_dir, 'zctas_2020.parquet')\n",
    "zctas = gpd.read_parquet(zcta_path)\n",
    "# Add column which is area of each zcta\n",
    "zctas['zcta_area'] = zctas.area\n",
    "zcta_path"
   ]
  },
  {
   "cell_type": "code",
   "execution_count": 198,
   "metadata": {},
   "outputs": [
    {
     "name": "stderr",
     "output_type": "stream",
     "text": [
      "/var/folders/8y/9yw138b95kjd5wjs3my5vy900000gn/T/ipykernel_32028/1996211507.py:2: UserWarning: CRS mismatch between the CRS of left geometries and the CRS of right geometries.\n",
      "Use `to_crs()` to reproject one of the input geometries to match the CRS of the other.\n",
      "\n",
      "Left CRS: GEOGCRS[\"GCS_North_American_1983\",\n",
      "    DATUM[\"D_No ...\n",
      "Right CRS: EPSG:4326\n",
      "\n",
      "  zctas_fires = gpd.overlay(zctas, merged_fires, how='intersection')\n"
     ]
    },
    {
     "data": {
      "text/plain": [
       "<Axes: >"
      ]
     },
     "execution_count": 198,
     "metadata": {},
     "output_type": "execute_result"
    },
    {
     "data": {
      "image/png": "[encoded data removed]",
      "text/plain": [
       "<Figure size 640x480 with 1 Axes>"
      ]
     },
     "metadata": {},
     "output_type": "display_data"
    }
   ],
   "source": [
    "# Intersect zctas with fires \n",
    "zctas_fires = gpd.overlay(zctas, merged_fires, how='intersection')\n",
    "# Plot\n",
    "zctas_fires.plot()"
   ]
  },
  {
   "cell_type": "code",
   "execution_count": 199,
   "metadata": {},
   "outputs": [
    {
     "name": "stdout",
     "output_type": "stream",
     "text": [
      "   ZCTA5CE20 GEOID20 CLASSFP20 MTFCC20 FUNCSTAT20      ALAND20    AWATER20  \\\n",
      "0      91001   91001        B5   G6350          S   21393347.0     91219.0   \n",
      "1      91302   91302        B5   G6350          S   71094708.0    116015.0   \n",
      "2      91604   91604        B5   G6350          S   12277522.0    187999.0   \n",
      "3      90049   90049        B5   G6350          S   38778176.0      1359.0   \n",
      "4      90290   90290        B5   G6350          S   48498335.0     24096.0   \n",
      "5      91344   91344        B5   G6350          S   37456572.0    870003.0   \n",
      "6      90272   90272        B5   G6350          S   61670603.0   1423894.0   \n",
      "7      91321   91321        B5   G6350          S   69047146.0     32803.0   \n",
      "8      90265   90265        B5   G6350          S  287514073.0  18899708.0   \n",
      "9      91006   91006        B5   G6350          S   16652745.0    488299.0   \n",
      "10     91016   91016        B5   G6350          S   21957687.0    125531.0   \n",
      "11     91024   91024        B5   G6350          S    9051029.0     10258.0   \n",
      "12     90046   90046        B5   G6350          S   14674077.0      3009.0   \n",
      "13     90402   90402        B5   G6350          S    5289316.0    326896.0   \n",
      "14     91103   91103        B5   G6350          S   11886234.0     55781.0   \n",
      "15     91104   91104        B5   G6350          S    9766256.0     11657.0   \n",
      "16     91107   91107        B5   G6350          S   21906578.0    167967.0   \n",
      "17     91342   91342        B5   G6350          S  117701198.0     80521.0   \n",
      "18     93510   93510        B5   G6350          S  207399594.0     35388.0   \n",
      "19     93003   93003        B5   G6350          S   53832749.0    242915.0   \n",
      "\n",
      "     INTPTLAT20    INTPTLON20  zcta_area  \\\n",
      "0   +34.1944893  -118.1382630   0.002101   \n",
      "1   +34.1225565  -118.6698213   0.006959   \n",
      "2   +34.1401869  -118.3946025   0.001218   \n",
      "3   +34.0925404  -118.4910639   0.003788   \n",
      "4   +34.1077521  -118.6162183   0.004740   \n",
      "5   +34.2894674  -118.5046992   0.003753   \n",
      "6   +34.0925672  -118.5343628   0.006163   \n",
      "7   +34.3637151  -118.4870386   0.006770   \n",
      "8   +34.0702448  -118.8510422   0.029926   \n",
      "9   +34.1351590  -118.0266852   0.001675   \n",
      "10  +34.1527996  -118.0004821   0.002159   \n",
      "11  +34.1752699  -118.0460680   0.000886   \n",
      "12  +34.1078099  -118.3622474   0.001434   \n",
      "13  +34.0346660  -118.5040391   0.000548   \n",
      "14  +34.1673607  -118.1641443   0.001168   \n",
      "15  +34.1653555  -118.1237514   0.000956   \n",
      "16  +34.1590073  -118.0873527   0.002158   \n",
      "17  +34.3265845  -118.3822613   0.011536   \n",
      "18  +34.4509057  -118.2276141   0.020350   \n",
      "19  +34.2836678  -119.2231961   0.005294   \n",
      "\n",
      "                                             geometry  \n",
      "0   MULTIPOLYGON (((-118.16 34.219, -118.16 34.219...  \n",
      "1   MULTIPOLYGON (((-118.7 34.169, -118.7 34.169, ...  \n",
      "2   MULTIPOLYGON (((-118.4 34.138, -118.4 34.138, ...  \n",
      "3   MULTIPOLYGON (((-118.52 34.118, -118.52 34.118...  \n",
      "4   MULTIPOLYGON (((-118.59 34.088, -118.59 34.088...  \n",
      "5   MULTIPOLYGON (((-118.51 34.309, -118.51 34.309...  \n",
      "6   MULTIPOLYGON (((-118.6 34.081, -118.59 34.082,...  \n",
      "7   POLYGON ((-118.47 34.33, -118.48 34.33, -118.4...  \n",
      "8   MULTIPOLYGON (((-118.68 34.06, -118.68 34.06, ...  \n",
      "9   POLYGON ((-118.03 34.171, -118.03 34.171, -118...  \n",
      "10  POLYGON ((-118.02 34.179, -118.02 34.179, -118...  \n",
      "11  MULTIPOLYGON (((-118.07 34.173, -118.07 34.173...  \n",
      "12  MULTIPOLYGON (((-118.35 34.105, -118.35 34.105...  \n",
      "13  MULTIPOLYGON (((-118.52 34.033, -118.52 34.033...  \n",
      "14  MULTIPOLYGON (((-118.16 34.181, -118.16 34.181...  \n",
      "15  MULTIPOLYGON (((-118.1 34.167, -118.1 34.167, ...  \n",
      "16  MULTIPOLYGON (((-118.1 34.175, -118.1 34.174, ...  \n",
      "17  MULTIPOLYGON (((-118.49 34.334, -118.49 34.334...  \n",
      "18  POLYGON ((-118.26 34.437, -118.26 34.437, -118...  \n",
      "19  MULTIPOLYGON (((-119.21 34.236, -119.21 34.236...  \n"
     ]
    }
   ],
   "source": [
    "print(zctas_fires)"
   ]
  },
  {
   "cell_type": "code",
   "execution_count": 200,
   "metadata": {},
   "outputs": [
    {
     "name": "stdout",
     "output_type": "stream",
     "text": [
      "   ZCTA5CE20 GEOID20 CLASSFP20 MTFCC20 FUNCSTAT20      ALAND20    AWATER20  \\\n",
      "0      91001   91001        B5   G6350          S   21393347.0     91219.0   \n",
      "1      91302   91302        B5   G6350          S   71094708.0    116015.0   \n",
      "2      91604   91604        B5   G6350          S   12277522.0    187999.0   \n",
      "3      90049   90049        B5   G6350          S   38778176.0      1359.0   \n",
      "4      90290   90290        B5   G6350          S   48498335.0     24096.0   \n",
      "5      91344   91344        B5   G6350          S   37456572.0    870003.0   \n",
      "6      90272   90272        B5   G6350          S   61670603.0   1423894.0   \n",
      "7      91321   91321        B5   G6350          S   69047146.0     32803.0   \n",
      "8      90265   90265        B5   G6350          S  287514073.0  18899708.0   \n",
      "9      91006   91006        B5   G6350          S   16652745.0    488299.0   \n",
      "10     91016   91016        B5   G6350          S   21957687.0    125531.0   \n",
      "11     91024   91024        B5   G6350          S    9051029.0     10258.0   \n",
      "12     90046   90046        B5   G6350          S   14674077.0      3009.0   \n",
      "13     90402   90402        B5   G6350          S    5289316.0    326896.0   \n",
      "14     91103   91103        B5   G6350          S   11886234.0     55781.0   \n",
      "15     91104   91104        B5   G6350          S    9766256.0     11657.0   \n",
      "16     91107   91107        B5   G6350          S   21906578.0    167967.0   \n",
      "17     91342   91342        B5   G6350          S  117701198.0     80521.0   \n",
      "18     93510   93510        B5   G6350          S  207399594.0     35388.0   \n",
      "19     93003   93003        B5   G6350          S   53832749.0    242915.0   \n",
      "\n",
      "     INTPTLAT20    INTPTLON20  zcta_area  \\\n",
      "0   +34.1944893  -118.1382630   0.002101   \n",
      "1   +34.1225565  -118.6698213   0.006959   \n",
      "2   +34.1401869  -118.3946025   0.001218   \n",
      "3   +34.0925404  -118.4910639   0.003788   \n",
      "4   +34.1077521  -118.6162183   0.004740   \n",
      "5   +34.2894674  -118.5046992   0.003753   \n",
      "6   +34.0925672  -118.5343628   0.006163   \n",
      "7   +34.3637151  -118.4870386   0.006770   \n",
      "8   +34.0702448  -118.8510422   0.029926   \n",
      "9   +34.1351590  -118.0266852   0.001675   \n",
      "10  +34.1527996  -118.0004821   0.002159   \n",
      "11  +34.1752699  -118.0460680   0.000886   \n",
      "12  +34.1078099  -118.3622474   0.001434   \n",
      "13  +34.0346660  -118.5040391   0.000548   \n",
      "14  +34.1673607  -118.1641443   0.001168   \n",
      "15  +34.1653555  -118.1237514   0.000956   \n",
      "16  +34.1590073  -118.0873527   0.002158   \n",
      "17  +34.3265845  -118.3822613   0.011536   \n",
      "18  +34.4509057  -118.2276141   0.020350   \n",
      "19  +34.2836678  -119.2231961   0.005294   \n",
      "\n",
      "                                             geometry  \\\n",
      "0   MULTIPOLYGON (((-118.16 34.219, -118.16 34.219...   \n",
      "1   MULTIPOLYGON (((-118.7 34.169, -118.7 34.169, ...   \n",
      "2   MULTIPOLYGON (((-118.4 34.138, -118.4 34.138, ...   \n",
      "3   MULTIPOLYGON (((-118.52 34.118, -118.52 34.118...   \n",
      "4   MULTIPOLYGON (((-118.59 34.088, -118.59 34.088...   \n",
      "5   MULTIPOLYGON (((-118.51 34.309, -118.51 34.309...   \n",
      "6   MULTIPOLYGON (((-118.6 34.081, -118.59 34.082,...   \n",
      "7   POLYGON ((-118.47 34.33, -118.48 34.33, -118.4...   \n",
      "8   MULTIPOLYGON (((-118.68 34.06, -118.68 34.06, ...   \n",
      "9   POLYGON ((-118.03 34.171, -118.03 34.171, -118...   \n",
      "10  POLYGON ((-118.02 34.179, -118.02 34.179, -118...   \n",
      "11  MULTIPOLYGON (((-118.07 34.173, -118.07 34.173...   \n",
      "12  MULTIPOLYGON (((-118.35 34.105, -118.35 34.105...   \n",
      "13  MULTIPOLYGON (((-118.52 34.033, -118.52 34.033...   \n",
      "14  MULTIPOLYGON (((-118.16 34.181, -118.16 34.181...   \n",
      "15  MULTIPOLYGON (((-118.1 34.167, -118.1 34.167, ...   \n",
      "16  MULTIPOLYGON (((-118.1 34.175, -118.1 34.174, ...   \n",
      "17  MULTIPOLYGON (((-118.49 34.334, -118.49 34.334...   \n",
      "18  POLYGON ((-118.26 34.437, -118.26 34.437, -118...   \n",
      "19  MULTIPOLYGON (((-119.21 34.236, -119.21 34.236...   \n",
      "\n",
      "    zcta_fire_intersection_area  \n",
      "0                  1.336501e-03  \n",
      "1                  1.171812e-04  \n",
      "2                  2.038172e-07  \n",
      "3                  4.564542e-04  \n",
      "4                  1.100134e-03  \n",
      "5                  7.433798e-06  \n",
      "6                  4.706798e-03  \n",
      "7                  2.189884e-04  \n",
      "8                  2.751597e-03  \n",
      "9                  4.413339e-05  \n",
      "10                 3.899938e-08  \n",
      "11                 3.095106e-04  \n",
      "12                 1.752825e-05  \n",
      "13                 5.372413e-06  \n",
      "14                 1.670514e-06  \n",
      "15                 1.529941e-06  \n",
      "16                 4.789199e-04  \n",
      "17                 1.130446e-04  \n",
      "18                 1.380093e-04  \n",
      "19                 2.205546e-05  \n"
     ]
    },
    {
     "name": "stderr",
     "output_type": "stream",
     "text": [
      "/var/folders/8y/9yw138b95kjd5wjs3my5vy900000gn/T/ipykernel_32028/3066510252.py:2: UserWarning: Geometry is in a geographic CRS. Results from 'area' are likely incorrect. Use 'GeoSeries.to_crs()' to re-project geometries to a projected CRS before this operation.\n",
      "\n",
      "  zctas_fires['zcta_fire_intersection_area'] = zctas_fires.area\n"
     ]
    }
   ],
   "source": [
    "# Add column which is area of intersection of zcta x fire\n",
    "zctas_fires['zcta_fire_intersection_area'] = zctas_fires.area\n",
    "print(zctas_fires)"
   ]
  },
  {
   "cell_type": "code",
   "execution_count": 201,
   "metadata": {},
   "outputs": [
    {
     "name": "stderr",
     "output_type": "stream",
     "text": [
      "/var/folders/8y/9yw138b95kjd5wjs3my5vy900000gn/T/ipykernel_32028/1519367099.py:5: SettingWithCopyWarning: \n",
      "A value is trying to be set on a copy of a slice from a DataFrame\n",
      "\n",
      "See the caveats in the documentation: https://pandas.pydata.org/pandas-docs/stable/user_guide/indexing.html#returning-a-view-versus-a-copy\n",
      "  zctas_fires.rename(columns={'ZCTA5CE20': 'zcta'}, inplace=True)\n"
     ]
    }
   ],
   "source": [
    "# From zctas_fires, select zcta name, zcta area, and zcta fire intersection \n",
    "# area, and fire name, although fire name is missing in 90% of cases\n",
    "zctas_fires = zctas_fires[['ZCTA5CE20', 'zcta_area', 'zcta_fire_intersection_area', 'geometry']]\n",
    "# rename ZCTA5CE20 to zcta\n",
    "zctas_fires.rename(columns={'ZCTA5CE20': 'zcta'}, inplace=True)"
   ]
  },
  {
   "cell_type": "code",
   "execution_count": 202,
   "metadata": {},
   "outputs": [],
   "source": [
    "# Calculate area affected by each fire within each zcta\n",
    "zctas_fires = zctas_fires.drop(columns='geometry')\n",
    "# Group by zcta and sum the variable zcta_fire_intersection_area\n",
    "zctas_fires_sum = zctas_fires.groupby('zcta').agg({\n",
    "    'zcta_fire_intersection_area': 'sum',\n",
    "    'zcta_area': 'first'  # or 'mean', 'max', etc., depending on your needs\n",
    "}).reset_index()\n",
    "# Add col which is zcta_fire_intersection_area / zcta_area\n",
    "zctas_fires_sum['fire_area_ratio'] = zctas_fires_sum['zcta_fire_intersection_area'] / zctas_fires_sum['zcta_area'] * 100\n"
   ]
  },
  {
   "cell_type": "code",
   "execution_count": 203,
   "metadata": {},
   "outputs": [
    {
     "name": "stdout",
     "output_type": "stream",
     "text": [
      "     zcta  zcta_fire_intersection_area  zcta_area  fire_area_ratio\n",
      "0   90046                 1.752825e-05   0.001434         1.222299\n",
      "1   90049                 4.564542e-04   0.003788        12.049650\n",
      "2   90265                 2.751597e-03   0.029926         9.194816\n",
      "3   90272                 4.706798e-03   0.006163        76.375635\n",
      "4   90290                 1.100134e-03   0.004740        23.207770\n",
      "5   90402                 5.372413e-06   0.000548         0.979874\n",
      "6   91001                 1.336501e-03   0.002101        63.603295\n",
      "7   91006                 4.413339e-05   0.001675         2.634326\n",
      "8   91016                 3.899938e-08   0.002159         0.001807\n",
      "9   91024                 3.095106e-04   0.000886        34.933469\n",
      "10  91103                 1.670514e-06   0.001168         0.143070\n",
      "11  91104                 1.529941e-06   0.000956         0.160031\n",
      "12  91107                 4.789199e-04   0.002158        22.191633\n",
      "13  91302                 1.171812e-04   0.006959         1.683888\n",
      "14  91321                 2.189884e-04   0.006770         3.234784\n",
      "15  91342                 1.130446e-04   0.011536         0.979913\n",
      "16  91344                 7.433798e-06   0.003753         0.198092\n",
      "17  91604                 2.038172e-07   0.001218         0.016728\n",
      "18  93003                 2.205546e-05   0.005294         0.416580\n",
      "19  93510                 1.380093e-04   0.020350         0.678166\n"
     ]
    }
   ],
   "source": [
    "print(zctas_fires_sum)"
   ]
  },
  {
   "cell_type": "code",
   "execution_count": 204,
   "metadata": {},
   "outputs": [],
   "source": [
    "# OK now to merge w Kaiser data\n",
    "# read in kaiser zips\n",
    "kaiser_zips_path = os.path.join(data_dir, 'kpsc_zcta_counts.csv')\n",
    "kaiser_zips = pd.read_csv(kaiser_zips_path)"
   ]
  },
  {
   "cell_type": "code",
   "execution_count": 205,
   "metadata": {},
   "outputs": [
    {
     "data": {
      "text/html": [
       "<div>\n",
       "<style scoped>\n",
       "    .dataframe tbody tr th:only-of-type {\n",
       "        vertical-align: middle;\n",
       "    }\n",
       "\n",
       "    .dataframe tbody tr th {\n",
       "        vertical-align: top;\n",
       "    }\n",
       "\n",
       "    .dataframe thead th {\n",
       "        text-align: right;\n",
       "    }\n",
       "</style>\n",
       "<table border=\"1\" class=\"dataframe\">\n",
       "  <thead>\n",
       "    <tr style=\"text-align: right;\">\n",
       "      <th></th>\n",
       "      <th>zcta</th>\n",
       "      <th>kpsc_pop_age_60p</th>\n",
       "      <th>classification</th>\n",
       "    </tr>\n",
       "  </thead>\n",
       "  <tbody>\n",
       "    <tr>\n",
       "      <th>0</th>\n",
       "      <td>90001</td>\n",
       "      <td>1684</td>\n",
       "      <td>General</td>\n",
       "    </tr>\n",
       "    <tr>\n",
       "      <th>1</th>\n",
       "      <td>90002</td>\n",
       "      <td>1627</td>\n",
       "      <td>General</td>\n",
       "    </tr>\n",
       "    <tr>\n",
       "      <th>2</th>\n",
       "      <td>90003</td>\n",
       "      <td>2133</td>\n",
       "      <td>General</td>\n",
       "    </tr>\n",
       "    <tr>\n",
       "      <th>3</th>\n",
       "      <td>90004</td>\n",
       "      <td>2372</td>\n",
       "      <td>General</td>\n",
       "    </tr>\n",
       "    <tr>\n",
       "      <th>4</th>\n",
       "      <td>90005</td>\n",
       "      <td>880</td>\n",
       "      <td>General</td>\n",
       "    </tr>\n",
       "  </tbody>\n",
       "</table>\n",
       "</div>"
      ],
      "text/plain": [
       "    zcta  kpsc_pop_age_60p classification\n",
       "0  90001              1684        General\n",
       "1  90002              1627        General\n",
       "2  90003              2133        General\n",
       "3  90004              2372        General\n",
       "4  90005               880        General"
      ]
     },
     "execution_count": 205,
     "metadata": {},
     "output_type": "execute_result"
    }
   ],
   "source": [
    "# view kaiser zips\n",
    "kaiser_zips.head()"
   ]
  },
  {
   "cell_type": "code",
   "execution_count": 206,
   "metadata": {},
   "outputs": [],
   "source": [
    "# Change zcta to character type in kaiser\n",
    "kaiser_zips['zcta'] = kaiser_zips['zcta'].astype(str)\n",
    "# Change in zcta_fires_sum to character type\n",
    "zctas_fires_sum['zcta'] = zctas_fires_sum['zcta'].astype(str)\n",
    "\n",
    "# Left join kaiser zips to zctas_fires_sum\n",
    "zctas_fires_sum = zctas_fires_sum.merge(kaiser_zips, how='left')"
   ]
  },
  {
   "cell_type": "code",
   "execution_count": 207,
   "metadata": {},
   "outputs": [],
   "source": [
    "# Change the fire area ratio to max out at 100 - zctas where it's higher \n",
    "# have that bc of the way the ZCTA file is set up\n",
    "zctas_fires_sum['fire_area_ratio'] = zctas_fires_sum['fire_area_ratio'].clip(upper=100)\n",
    "\n",
    "# Make a new col fire_area_ratio times kaiser count\n",
    "zctas_fires_sum['ppl_affected'] = zctas_fires_sum['fire_area_ratio'] * zctas_fires_sum['kpsc_pop_age_60p'] / 100"
   ]
  },
  {
   "cell_type": "code",
   "execution_count": 208,
   "metadata": {},
   "outputs": [],
   "source": [
    "# Remove column 'classification'\n",
    "zctas_fires_sum = zctas_fires_sum.drop(columns='classification')\n",
    "\n",
    "# Sort descending by ppl affected\n",
    "zctas_fires_sum = zctas_fires_sum.sort_values(by='ppl_affected', ascending=False)\n",
    "# Round ppl affected up to the nearest integer\n",
    "zctas_fires_sum['ppl_affected'] = zctas_fires_sum['ppl_affected'].apply(lambda x: round(x))"
   ]
  },
  {
   "cell_type": "code",
   "execution_count": 209,
   "metadata": {},
   "outputs": [],
   "source": [
    "# Write as csv\n",
    "zctas_fires_sum_path = os.path.join(data_dir, 'num_kaiser_pop_age_60_affected_la_wf.csv')\n",
    "zctas_fires_sum.to_csv(zctas_fires_sum_path, index=False)\n"
   ]
  }
 ],
 "metadata": {
  "kernelspec": {
   "display_name": "la_fire",
   "language": "python",
   "name": "python3"
  },
  "language_info": {
   "codemirror_mode": {
    "name": "ipython",
    "version": 3
   },
   "file_extension": ".py",
   "mimetype": "text/x-python",
   "name": "python",
   "nbconvert_exporter": "python",
   "pygments_lexer": "ipython3",
   "version": "3.10.16"
  }
 },
 "nbformat": 4,
 "nbformat_minor": 2
}
