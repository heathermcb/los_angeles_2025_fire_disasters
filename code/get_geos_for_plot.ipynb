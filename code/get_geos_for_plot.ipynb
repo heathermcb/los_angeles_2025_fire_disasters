{
 "cells": [
  {
   "cell_type": "code",
   "execution_count": 19,
   "metadata": {},
   "outputs": [],
   "source": [
    "import requests\n",
    "import os\n",
    "from datetime import datetime\n",
    "from pathlib import Path\n",
    "import pyarrow\n",
    "import geopandas as gpd \n",
    "import pandas as pd \n",
    "import matplotlib.pyplot as plt\n",
    "from shapely.ops import unary_union"
   ]
  },
  {
   "cell_type": "code",
   "execution_count": 20,
   "metadata": {},
   "outputs": [],
   "source": [
    "# Ready to read data\n",
    "data_dir = \"/Volumes/squirrel-utopia 1/los_angeles_2025_fire_disasters_exp/los_angeles_2025_fire_disasters_exp/data\"\n",
    "wf_path =  \"/Volumes/squirrel-utopia 1/los_angeles_2025_fire_disasters_exp/los_angeles_2025_fire_disasters_exp/data/calfire_boundaries/data_2025_01_14.geojson\"\n",
    "\n",
    "fires = gpd.read_file(wf_path)\n",
    "fires = fires[fires['poly_DateCurrent'] > '2025-01-06']"
   ]
  },
  {
   "cell_type": "code",
   "execution_count": 21,
   "metadata": {},
   "outputs": [
    {
     "data": {
      "text/plain": [
       "<Axes: >"
      ]
     },
     "execution_count": 21,
     "metadata": {},
     "output_type": "execute_result"
    },
    {
     "data": {
      "image/png": "[encoded data removed]",
      "text/plain": [
       "<Figure size 640x480 with 1 Axes>"
      ]
     },
     "metadata": {},
     "output_type": "display_data"
    }
   ],
   "source": [
    "# plot fires\n",
    "fires.plot()"
   ]
  },
  {
   "cell_type": "code",
   "execution_count": 22,
   "metadata": {},
   "outputs": [],
   "source": [
    "# Create an empty list to store the groups of intersecting geometries\n",
    "groups = []\n",
    "\n",
    "# Iterate over each polygon\n",
    "for i, poly in fires.iterrows():\n",
    "    # Check if the polygon intersects with any existing group\n",
    "    found_group = False\n",
    "    for group in groups:\n",
    "        if any(poly.geometry.intersects(g) for g in group):\n",
    "            group.append(poly.geometry)\n",
    "            found_group = True\n",
    "            break\n",
    "    # If no intersecting group is found, create a new group\n",
    "    if not found_group:\n",
    "        groups.append([poly.geometry])\n",
    "\n",
    "# Perform unary union on each group to merge intersecting geometries\n",
    "merged_geometries = [unary_union(group) for group in groups]"
   ]
  },
  {
   "cell_type": "code",
   "execution_count": 23,
   "metadata": {},
   "outputs": [
    {
     "name": "stdout",
     "output_type": "stream",
     "text": [
      "[<MULTIPOLYGON (((-119 34, -119 34, -119 34, -119 34, -119 34, -119 34, -119 ...>, <POLYGON ((-118 34.4, -118 34.4, -118 34.4, -118 34.4, -118 34.4, -118 34.4,...>, <MULTIPOLYGON (((-118 34.1, -118 34.1, -118 34.1, -118 34.1, -118 34.1)), ((...>, <MULTIPOLYGON (((-118 34.2, -118 34.2, -118 34.2, -118 34.2, -118 34.2, -118...>, <POLYGON ((-118 34.3, -118 34.3, -118 34.3, -118 34.3, -118 34.3, -118 34.3,...>, <MULTIPOLYGON (((-119 34.2, -119 34.2, -119 34.2, -119 34.2, -119 34.2, -119...>, <MULTIPOLYGON (((-119 34.3, -119 34.3, -119 34.3, -119 34.3, -119 34.3, -119...>, <MULTIPOLYGON (((-119 34.2, -119 34.2, -119 34.2, -119 34.2, -119 34.2)), ((...>]\n"
     ]
    }
   ],
   "source": [
    "print(merged_geometries)\n",
    "# make the list into a geodataframe\n",
    "# this isn't working but i had to quit\n",
    "merged_gdf = gpd.GeoDataFrame(geometry=merged_geometries, crs=fires.crs)"
   ]
  },
  {
   "cell_type": "code",
   "execution_count": null,
   "metadata": {},
   "outputs": [],
   "source": [
    "print(merged_gdf)"
   ]
  },
  {
   "cell_type": "code",
   "execution_count": 25,
   "metadata": {},
   "outputs": [],
   "source": [
    "# write merged_geometries as parquet \n",
    "# separate fires \n",
    "sep_fires_path = os.path.join(data_dir, 'sep_fires.parquet')\n",
    "merged_gdf.to_parquet(sep_fires_path)\n"
   ]
  }
 ],
 "metadata": {
  "kernelspec": {
   "display_name": "Python 3",
   "language": "python",
   "name": "python3"
  },
  "language_info": {
   "codemirror_mode": {
    "name": "ipython",
    "version": 3
   },
   "file_extension": ".py",
   "mimetype": "text/x-python",
   "name": "python",
   "nbconvert_exporter": "python",
   "pygments_lexer": "ipython3",
   "version": "3.12.2"
  }
 },
 "nbformat": 4,
 "nbformat_minor": 2
}
