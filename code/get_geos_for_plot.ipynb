{
 "cells": [
  {
   "cell_type": "code",
   "execution_count": 2,
   "metadata": {},
   "outputs": [],
   "source": [
    "import requests\n",
    "import os\n",
    "from datetime import datetime\n",
    "from pathlib import Path\n",
    "import pyarrow\n",
    "import geopandas as gpd \n",
    "import pandas as pd \n",
    "import matplotlib.pyplot as plt\n",
    "from shapely.ops import unary_union\n",
    "\n",
    "root_dir = \"~/Desktop/Desktop/epidemiology_PhD/00_repos/\"\n",
    "# root_dir = \"/Volumes/squirrel-utopia 1/los_angeles_2025_fire_disasters_exp/\""
   ]
  },
  {
   "cell_type": "code",
   "execution_count": 3,
   "metadata": {},
   "outputs": [],
   "source": [
    "# Ready to read data\n",
    "data_dir = root_dir + \"los_angeles_2025_fire_disasters_exp/data\"\n",
    "wf_path =  root_dir + \"los_angeles_2025_fire_disasters_exp/data/calfire_boundaries/data_2025_01_14.geojson\"\n",
    "\n",
    "fires = gpd.read_file(wf_path)\n",
    "fires = fires[fires['poly_DateCurrent'] > '2025-01-06']"
   ]
  },
  {
   "cell_type": "code",
   "execution_count": 4,
   "metadata": {},
   "outputs": [
    {
     "data": {
      "text/plain": [
       "<Axes: >"
      ]
     },
     "execution_count": 4,
     "metadata": {},
     "output_type": "execute_result"
    },
    {
     "data": {
      "image/png": "[encoded data removed]",
      "text/plain": [
       "<Figure size 640x480 with 1 Axes>"
      ]
     },
     "metadata": {},
     "output_type": "display_data"
    }
   ],
   "source": [
    "# plot fires\n",
    "fires.plot()"
   ]
  },
  {
   "cell_type": "code",
   "execution_count": 5,
   "metadata": {},
   "outputs": [],
   "source": [
    "# Create an empty list to store the groups of intersecting geometries\n",
    "groups = []\n",
    "\n",
    "# Iterate over each polygon\n",
    "for i, poly in fires.iterrows():\n",
    "    # Check if the polygon intersects with any existing group\n",
    "    found_group = False\n",
    "    for group in groups:\n",
    "        if any(poly.geometry.intersects(g) for g in group):\n",
    "            group.append(poly.geometry)\n",
    "            found_group = True\n",
    "            break\n",
    "    # If no intersecting group is found, create a new group\n",
    "    if not found_group:\n",
    "        groups.append([poly.geometry])\n",
    "\n",
    "# Perform unary union on each group to merge intersecting geometries\n",
    "merged_geometries = [unary_union(group) for group in groups]"
   ]
  },
  {
   "cell_type": "code",
   "execution_count": 6,
   "metadata": {},
   "outputs": [
    {
     "name": "stdout",
     "output_type": "stream",
     "text": [
      "[<MULTIPOLYGON (((-118.561 34.043, -118.561 34.043, -118.561 34.042, -118.561...>, <POLYGON ((-118.256 34.434, -118.255 34.434, -118.255 34.434, -118.255 34.43...>, <MULTIPOLYGON (((-118.354 34.105, -118.354 34.105, -118.354 34.105, -118.354...>, <MULTIPOLYGON (((-118.157 34.181, -118.157 34.181, -118.157 34.181, -118.157...>, <POLYGON ((-118.47 34.33, -118.47 34.33, -118.47 34.33, -118.47 34.33, -118....>, <MULTIPOLYGON (((-118.684 34.171, -118.684 34.171, -118.684 34.171, -118.683...>, <MULTIPOLYGON (((-118.512 34.308, -118.512 34.308, -118.512 34.308, -118.512...>, <MULTIPOLYGON (((-119.213 34.236, -119.213 34.236, -119.213 34.236, -119.213...>]\n"
     ]
    }
   ],
   "source": [
    "print(merged_geometries)\n",
    "# make the list into a geodataframe\n",
    "# this isn't working but i had to quit\n",
    "merged_gdf = gpd.GeoDataFrame(geometry=merged_geometries, crs=fires.crs)"
   ]
  },
  {
   "cell_type": "code",
   "execution_count": 7,
   "metadata": {},
   "outputs": [
    {
     "name": "stdout",
     "output_type": "stream",
     "text": [
      "                                            geometry\n",
      "0  MULTIPOLYGON (((-118.56123 34.04269, -118.5612...\n",
      "1  POLYGON ((-118.25563 34.43419, -118.25547 34.4...\n",
      "2  MULTIPOLYGON (((-118.35381 34.10469, -118.3537...\n",
      "3  MULTIPOLYGON (((-118.15682 34.18148, -118.1568...\n",
      "4  POLYGON ((-118.46963 34.33044, -118.46957 34.3...\n",
      "5  MULTIPOLYGON (((-118.6837 34.17072, -118.68363...\n",
      "6  MULTIPOLYGON (((-118.51183 34.30772, -118.5119...\n",
      "7  MULTIPOLYGON (((-119.21283 34.23611, -119.2128...\n"
     ]
    }
   ],
   "source": [
    "print(merged_gdf)"
   ]
  },
  {
   "cell_type": "code",
   "execution_count": 8,
   "metadata": {},
   "outputs": [],
   "source": [
    "# write merged_geometries as parquet \n",
    "# separate fires \n",
    "sep_fires_path = os.path.join(data_dir, 'sep_fires.parquet')\n",
    "merged_gdf.to_parquet(sep_fires_path)\n"
   ]
  },
  {
   "cell_type": "code",
   "execution_count": null,
   "metadata": {},
   "outputs": [],
   "source": []
  }
 ],
 "metadata": {
  "kernelspec": {
   "display_name": "la_fire",
   "language": "python",
   "name": "python3"
  },
  "language_info": {
   "codemirror_mode": {
    "name": "ipython",
    "version": 3
   },
   "file_extension": ".py",
   "mimetype": "text/x-python",
   "name": "python",
   "nbconvert_exporter": "python",
   "pygments_lexer": "ipython3",
   "version": "3.10.16"
  }
 },
 "nbformat": 4,
 "nbformat_minor": 2
}
