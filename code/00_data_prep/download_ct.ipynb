{
 "cells": [
  {
   "cell_type": "code",
   "execution_count": null,
   "metadata": {},
   "outputs": [],
   "source": [
    "from pathlib import Path\n",
    "import pprint\n",
    "import requests\n",
    "import pandas as pd\n",
    "import json\n",
    "\n",
    "root_dir = Path(\"~/Desktop/Desktop/epidemiology_PhD/00_repos/\").expanduser()\n",
    "# root_dir = \"/Volumes/squirrel-utopia 1/los_angeles_2025_fire_disasters_exp/\"\n",
    "\n",
    "my_key = \"59cba10d8a5da536fc06b59d0dcc373c3db3420da5ce10fd2d1ef0e9\""
   ]
  },
  {
   "cell_type": "code",
   "execution_count": null,
   "metadata": {},
   "outputs": [],
   "source": [
    "my_headers = {\"Authorization\": my_key}\n",
    "url = \"https://api.ipums.org/metadata/nhgis/shapefiles?version=2\"\n",
    "nhgis_metadata = requests.get(url, headers=my_headers)\n",
    "nhgis_metadata\n",
    "# pprint.pprint(nhgis_metadata.json())\n",
    "\n",
    "{ 'data': [ { 'basis': '2010 TIGER/Line +',\n",
    "              'extent': 'California',\n",
    "              'geographicLevel': 'Block Group',\n",
    "              'name': '060_blck_grp_2000_tl2010',\n",
    "              'sequence': 1,\n",
    "              'year': '2000'}],\n",
    "  'links': { 'nextPage': 'https://api.ipums.org/metadata/nhgis/shapefiles?pageNumber=2&pageSize=500&version=2',\n",
    "             'previousPage': None},\n",
    "  'pageNumber': 1,\n",
    "  'pageSize': 500,\n",
    "  'totalCount': 1858}\n",
    "\n",
    "r = requests.get(\n",
    "    \"https://api.ipums.org/metadata/nhgis/shapefiles?version=2\",\n",
    "    headers=my_headers\n",
    ")\n",
    "\n",
    "\n"
   ]
  },
  {
   "cell_type": "code",
   "execution_count": null,
   "metadata": {},
   "outputs": [],
   "source": [
    "from ipumspy import IpumsApiClient\n",
    "from ipumspy import extract\n",
    "\n",
    "# Set up the client with your API key\n",
    "client = IpumsApiClient(my_key)\n",
    "\n",
    "# Create an NHGIS shapefile extract\n",
    "extraction = extract(\n",
    "    geog_levels=[\"tract\"],  # Specify tract level\n",
    "    years=[2020],          # Use most recent census year\n",
    "    states=[\"CA\"]          # Filter to California\n",
    ")\n",
    "\n",
    "# # Submit the extract\n",
    "# submitted_extract = client.submit_extract(extract)\n",
    "\n",
    "# # Wait for and download the extract when ready\n",
    "# # This may take a few minutes\n",
    "# download_path = client.wait_for_extract(submitted_extract)\n",
    "\n",
    "# # The shapefile will be downloaded as a zip file\n",
    "# # You can use geopandas to read it:\n",
    "# import geopandas as gpd\n",
    "# ca_tracts = gpd.read_file(download_path)"
   ]
  },
  {
   "cell_type": "code",
   "execution_count": null,
   "metadata": {},
   "outputs": [],
   "source": [
    "import ipumspy\n",
    "dir(ipumspy)"
   ]
  },
  {
   "cell_type": "code",
   "execution_count": null,
   "metadata": {},
   "outputs": [],
   "source": []
  }
 ],
 "metadata": {
  "kernelspec": {
   "display_name": "la_fire",
   "language": "python",
   "name": "python3"
  },
  "language_info": {
   "codemirror_mode": {
    "name": "ipython",
    "version": 3
   },
   "file_extension": ".py",
   "mimetype": "text/x-python",
   "name": "python",
   "nbconvert_exporter": "python",
   "pygments_lexer": "ipython3",
   "version": "3.10.16"
  }
 },
 "nbformat": 4,
 "nbformat_minor": 2
}
