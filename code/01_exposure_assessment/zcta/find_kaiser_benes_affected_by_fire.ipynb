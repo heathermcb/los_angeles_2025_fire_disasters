{
 "cells": [
  {
   "cell_type": "code",
   "execution_count": null,
   "metadata": {},
   "outputs": [],
   "source": [
    "import requests\n",
    "import os\n",
    "from datetime import datetime\n",
    "from pathlib import Path\n",
    "import pyarrow\n",
    "import geopandas as gpd \n",
    "import pandas as pd \n",
    "import matplotlib.pyplot as plt\n",
    "\n",
    "root_dir = \"~/Desktop/Desktop/epidemiology_PhD/00_repos/\"\n",
    "# root_dir = \"/Volumes/squirrel-utopia 1/los_angeles_2025_fire_disasters_exp/\""
   ]
  },
  {
   "cell_type": "code",
   "execution_count": null,
   "metadata": {},
   "outputs": [],
   "source": [
    "# Download latest fire boundaries from CalFire on ARCGIS API\n",
    "url = \"https://hub.arcgis.com/api/v3/datasets/025fb2ea05f14890b2b11573341b5b18_0/downloads/data?format=geojson&spatialRefId=4326&where=1%3D1\"\n",
    "output_dir = root_dir + \"los_angeles_2025_fire_disasters_exp/data/calfire_boundaries\"\n",
    "data_dir = root_dir + \"los_angeles_2025_fire_disasters_exp/data\""
   ]
  },
  {
   "cell_type": "code",
   "execution_count": null,
   "metadata": {},
   "outputs": [],
   "source": [
    "# generate a filename with the current date\n",
    "filename = f\"data_{datetime.now().strftime('%Y_%m_%d')}.geojson\"\n",
    "output_path = os.path.join(output_dir, filename)\n",
    "\n",
    "# check \n",
    "print(filename)\n",
    "print(output_path)"
   ]
  },
  {
   "cell_type": "code",
   "execution_count": null,
   "metadata": {},
   "outputs": [],
   "source": [
    "# Download the file\n",
    "response = requests.get(url)\n",
    "# Check if the request was successful\n",
    "response.raise_for_status()  "
   ]
  },
  {
   "cell_type": "code",
   "execution_count": null,
   "metadata": {},
   "outputs": [],
   "source": [
    "# Save\n",
    "# with open(output_path, \"wb\") as file:\n",
    "#     file.write(response.content)\n",
    "\n",
    "# lbw this doesnt work for me! i did it manually"
   ]
  },
  {
   "cell_type": "code",
   "execution_count": null,
   "metadata": {},
   "outputs": [],
   "source": [
    "# Read in data - contains wf data going back to 2024 or 2023 - want only \n",
    "# dates since January 7th, 2025\n",
    "fires = gpd.read_file(output_path)\n",
    "fires = fires[fires['poly_DateCurrent'] > '2025-01-06']"
   ]
  },
  {
   "cell_type": "code",
   "execution_count": null,
   "metadata": {},
   "outputs": [],
   "source": [
    "# Plot fires\n",
    "fires.plot()"
   ]
  },
  {
   "cell_type": "code",
   "execution_count": null,
   "metadata": {},
   "outputs": [],
   "source": [
    "# Let's list them: \n",
    "# - Palisades Fire\n",
    "# - Eaton Fire\n",
    "# - Hurst Fire \n",
    "# - Auto Fire\n",
    "# - Sunset Fire\n",
    "# - Lidia Fire\n",
    "# - Archer Fire \n",
    "# - Kenneth Fire\n",
    "# as of Jan 14th, 2024"
   ]
  },
  {
   "cell_type": "code",
   "execution_count": null,
   "metadata": {},
   "outputs": [],
   "source": [
    "# need to get the largest burned area for each fire\n",
    "# want to union all geometries together \n",
    "print(fires)"
   ]
  },
  {
   "cell_type": "code",
   "execution_count": null,
   "metadata": {},
   "outputs": [],
   "source": [
    "# Perform unary union to merge intersecting polygons\n",
    "merged_fires = fires.geometry.unary_union\n",
    "\n",
    "# If you want to convert the result back to a GeoDataFrame\n",
    "merged_fires = gpd.GeoDataFrame(geometry=[merged_fires], crs=fires.crs)\n",
    "print(merged_fires)"
   ]
  },
  {
   "cell_type": "code",
   "execution_count": null,
   "metadata": {},
   "outputs": [],
   "source": [
    "# plot merged fires\n",
    "merged_fires.plot()"
   ]
  },
  {
   "cell_type": "code",
   "execution_count": null,
   "metadata": {},
   "outputs": [],
   "source": [
    "# Read in ZCTA data \n",
    "zcta_path = os.path.join(data_dir, 'zctas_2020.parquet')\n",
    "zctas = gpd.read_parquet(zcta_path)\n",
    "# Add column which is area of each zcta\n",
    "zctas['zcta_area'] = zctas.area\n",
    "zcta_path"
   ]
  },
  {
   "cell_type": "code",
   "execution_count": null,
   "metadata": {},
   "outputs": [],
   "source": [
    "# Intersect zctas with fires \n",
    "zctas_fires = gpd.overlay(zctas, merged_fires, how='intersection')\n",
    "# Plot\n",
    "zctas_fires.plot()"
   ]
  },
  {
   "cell_type": "code",
   "execution_count": null,
   "metadata": {},
   "outputs": [],
   "source": [
    "print(zctas_fires)"
   ]
  },
  {
   "cell_type": "code",
   "execution_count": null,
   "metadata": {},
   "outputs": [],
   "source": [
    "# Add column which is area of intersection of zcta x fire\n",
    "zctas_fires['zcta_fire_intersection_area'] = zctas_fires.area\n",
    "print(zctas_fires)"
   ]
  },
  {
   "cell_type": "code",
   "execution_count": null,
   "metadata": {},
   "outputs": [],
   "source": [
    "# From zctas_fires, select zcta name, zcta area, and zcta fire intersection \n",
    "# area, and fire name, although fire name is missing in 90% of cases\n",
    "zctas_fires = zctas_fires[['ZCTA5CE20', 'zcta_area', 'zcta_fire_intersection_area', 'geometry']]\n",
    "# rename ZCTA5CE20 to zcta\n",
    "zctas_fires.rename(columns={'ZCTA5CE20': 'zcta'}, inplace=True)"
   ]
  },
  {
   "cell_type": "code",
   "execution_count": null,
   "metadata": {},
   "outputs": [],
   "source": [
    "# Calculate area affected by each fire within each zcta\n",
    "zctas_fires = zctas_fires.drop(columns='geometry')\n",
    "# Group by zcta and sum the variable zcta_fire_intersection_area\n",
    "zctas_fires_sum = zctas_fires.groupby('zcta').agg({\n",
    "    'zcta_fire_intersection_area': 'sum',\n",
    "    'zcta_area': 'first'  # or 'mean', 'max', etc., depending on your needs\n",
    "}).reset_index()\n",
    "# Add col which is zcta_fire_intersection_area / zcta_area\n",
    "zctas_fires_sum['fire_area_ratio'] = zctas_fires_sum['zcta_fire_intersection_area'] / zctas_fires_sum['zcta_area'] * 100\n"
   ]
  },
  {
   "cell_type": "code",
   "execution_count": null,
   "metadata": {},
   "outputs": [],
   "source": [
    "print(zctas_fires_sum)"
   ]
  },
  {
   "cell_type": "code",
   "execution_count": null,
   "metadata": {},
   "outputs": [],
   "source": [
    "# OK now to merge w Kaiser data\n",
    "# read in kaiser zips\n",
    "kaiser_zips_path = os.path.join(data_dir, 'kpsc_zcta_counts.csv')\n",
    "kaiser_zips = pd.read_csv(kaiser_zips_path)"
   ]
  },
  {
   "cell_type": "code",
   "execution_count": null,
   "metadata": {},
   "outputs": [],
   "source": [
    "# view kaiser zips\n",
    "kaiser_zips.head()"
   ]
  },
  {
   "cell_type": "code",
   "execution_count": null,
   "metadata": {},
   "outputs": [],
   "source": [
    "# Change zcta to character type in kaiser\n",
    "kaiser_zips['zcta'] = kaiser_zips['zcta'].astype(str)\n",
    "# Change in zcta_fires_sum to character type\n",
    "zctas_fires_sum['zcta'] = zctas_fires_sum['zcta'].astype(str)\n",
    "\n",
    "# Left join kaiser zips to zctas_fires_sum\n",
    "zctas_fires_sum = zctas_fires_sum.merge(kaiser_zips, how='left')"
   ]
  },
  {
   "cell_type": "code",
   "execution_count": null,
   "metadata": {},
   "outputs": [],
   "source": [
    "# Change the fire area ratio to max out at 100 - zctas where it's higher \n",
    "# have that bc of the way the ZCTA file is set up\n",
    "zctas_fires_sum['fire_area_ratio'] = zctas_fires_sum['fire_area_ratio'].clip(upper=100)\n",
    "\n",
    "# Make a new col fire_area_ratio times kaiser count\n",
    "zctas_fires_sum['ppl_affected'] = zctas_fires_sum['fire_area_ratio'] * zctas_fires_sum['kpsc_pop_age_60p'] / 100"
   ]
  },
  {
   "cell_type": "code",
   "execution_count": null,
   "metadata": {},
   "outputs": [],
   "source": [
    "# Remove column 'classification'\n",
    "zctas_fires_sum = zctas_fires_sum.drop(columns='classification')\n",
    "\n",
    "# Sort descending by ppl affected\n",
    "zctas_fires_sum = zctas_fires_sum.sort_values(by='ppl_affected', ascending=False)\n",
    "# Round ppl affected up to the nearest integer\n",
    "zctas_fires_sum['ppl_affected'] = zctas_fires_sum['ppl_affected'].apply(lambda x: round(x))"
   ]
  },
  {
   "cell_type": "code",
   "execution_count": null,
   "metadata": {},
   "outputs": [],
   "source": [
    "# Write as csv\n",
    "zctas_fires_sum_path = os.path.join(data_dir, 'num_kaiser_pop_age_60_affected_la_wf.csv')\n",
    "zctas_fires_sum.to_csv(zctas_fires_sum_path, index=False)\n"
   ]
  }
 ],
 "metadata": {
  "kernelspec": {
   "display_name": "la_fire",
   "language": "python",
   "name": "python3"
  },
  "language_info": {
   "codemirror_mode": {
    "name": "ipython",
    "version": 3
   },
   "file_extension": ".py",
   "mimetype": "text/x-python",
   "name": "python",
   "nbconvert_exporter": "python",
   "pygments_lexer": "ipython3",
   "version": "3.10.16"
  }
 },
 "nbformat": 4,
 "nbformat_minor": 2
}
