{
 "cells": [
  {
   "cell_type": "code",
   "execution_count": null,
   "metadata": {},
   "outputs": [],
   "source": [
    "import requests\n",
    "import os\n",
    "from datetime import datetime\n",
    "from pathlib import Path\n",
    "import pyarrow\n",
    "import pandas as pd\n",
    "import geopandas as gpd"
   ]
  },
  {
   "cell_type": "code",
   "execution_count": null,
   "metadata": {},
   "outputs": [],
   "source": [
    "# URL of the file to download\n",
    "url = \"https://hub.arcgis.com/api/v3/datasets/025fb2ea05f14890b2b11573341b5b18_0/downloads/data?format=geojson&spatialRefId=4326&where=1%3D1\"\n"
   ]
  },
  {
   "cell_type": "code",
   "execution_count": null,
   "metadata": {},
   "outputs": [],
   "source": [
    "# Directory to save the downloaded file\n",
    "output_dir = \"/Volumes/squirrel-utopia 1/los_angeles_2025_fire_disasters_exp/los_angeles_2025_fire_disasters_exp/data/calfire_boundaries\""
   ]
  },
  {
   "cell_type": "code",
   "execution_count": null,
   "metadata": {},
   "outputs": [],
   "source": [
    "# Generate a filename with the current date\n",
    "filename = f\"data_{datetime.now().strftime('%Y_%m_%d')}.geojson\"\n",
    "output_path = os.path.join(output_dir, filename)\n",
    "print(filename)\n",
    "print(output_path)"
   ]
  },
  {
   "cell_type": "code",
   "execution_count": null,
   "metadata": {},
   "outputs": [],
   "source": [
    "# Download the file\n",
    "response = requests.get(url)\n",
    "response.raise_for_status()  # Check if the request was successful"
   ]
  },
  {
   "cell_type": "code",
   "execution_count": null,
   "metadata": {},
   "outputs": [],
   "source": [
    "# view response\n",
    "print(response.headers)"
   ]
  },
  {
   "cell_type": "code",
   "execution_count": null,
   "metadata": {},
   "outputs": [],
   "source": [
    "with open(output_path, \"wb\") as file:\n",
    "    file.write(response.content)\n",
    "\n",
    "print(f\"File downloaded and saved as {output_path}\")"
   ]
  },
  {
   "cell_type": "code",
   "execution_count": null,
   "metadata": {},
   "outputs": [],
   "source": [
    "# read that file and plot it\n",
    "import geopandas as gpd\n",
    "import matplotlib.pyplot as plt\n",
    "\n",
    "gdf = gpd.read_file(output_path)\n",
    " "
   ]
  },
  {
   "cell_type": "code",
   "execution_count": null,
   "metadata": {},
   "outputs": [],
   "source": [
    "   \n",
    "\n",
    "# plot\n",
    "gdf.plot()"
   ]
  },
  {
   "cell_type": "code",
   "execution_count": null,
   "metadata": {},
   "outputs": [],
   "source": [
    "print(gdf)\n"
   ]
  },
  {
   "cell_type": "code",
   "execution_count": null,
   "metadata": {},
   "outputs": [],
   "source": [
    "# print column names\n",
    "print(gdf.columns)\n",
    "# print head\n",
    "print(gdf.head())\n",
    "# get class of poly_DateC\n",
    "print(gdf['poly_DateCurrent'].dtype)\n",
    "# view whole dataset\n",
    "print(gdf)\n",
    "\n",
    "\n",
    "# filter to dates january 7th or later\n",
    "#gdf['datetime'] = pd.to_datetime(gdf['datetime'])"
   ]
  },
  {
   "cell_type": "code",
   "execution_count": null,
   "metadata": {},
   "outputs": [],
   "source": [
    "# going to treat polydate as the relevant date\n",
    "# sort shape to only include dates after january 6th\n",
    "gdf = gdf[gdf['poly_DateCurrent'] > '2025-01-06']\n"
   ]
  },
  {
   "cell_type": "code",
   "execution_count": null,
   "metadata": {},
   "outputs": [],
   "source": [
    "# plot\n",
    "gdf.plot()"
   ]
  },
  {
   "cell_type": "code",
   "execution_count": null,
   "metadata": {},
   "outputs": [],
   "source": [
    "import pyarrow\n",
    "# read in zctas from data folder\n",
    "zctas = gpd.read_parquet('/Volumes/squirrel-utopia 1/los_angeles_2025_fire_disasters_exp/los_angeles_2025_fire_disasters_exp/data/zctas_2020.parquet')"
   ]
  },
  {
   "cell_type": "code",
   "execution_count": null,
   "metadata": {},
   "outputs": [],
   "source": [
    "# plot\n",
    "zctas.plot()"
   ]
  },
  {
   "cell_type": "code",
   "execution_count": null,
   "metadata": {},
   "outputs": [],
   "source": [
    "# find zcta crs\n",
    "print(zctas.crs)\n",
    "# find fire crs\n",
    "print(gdf.crs)"
   ]
  },
  {
   "cell_type": "code",
   "execution_count": null,
   "metadata": {},
   "outputs": [],
   "source": [
    "# convert fires to zcta crs\n",
    "gdf = gdf.to_crs(zctas.crs)\n"
   ]
  },
  {
   "cell_type": "code",
   "execution_count": null,
   "metadata": {},
   "outputs": [],
   "source": [
    "# add column which is area of each zcta\n",
    "zctas['zcta_area'] = zctas.area"
   ]
  },
  {
   "cell_type": "code",
   "execution_count": null,
   "metadata": {},
   "outputs": [],
   "source": [
    "# intersect zctas with fires \n",
    "zctas_fires = gpd.overlay(zctas, gdf, how='intersection')\n",
    "# plot\n",
    "zctas_fires.plot()"
   ]
  },
  {
   "cell_type": "code",
   "execution_count": null,
   "metadata": {},
   "outputs": [],
   "source": []
  },
  {
   "cell_type": "code",
   "execution_count": null,
   "metadata": {},
   "outputs": [],
   "source": [
    "# add column which is area of intersection\n",
    "zctas_fires['zcta_fire_intersection_area'] = zctas_fires.area"
   ]
  },
  {
   "cell_type": "code",
   "execution_count": null,
   "metadata": {},
   "outputs": [],
   "source": [
    "# view the zctas_fires dataframe\n",
    "print(zctas_fires)"
   ]
  },
  {
   "cell_type": "code",
   "execution_count": null,
   "metadata": {},
   "outputs": [],
   "source": [
    "# from zctas_fires, select zcta name, zcta area, and zcta fire intersection area, and fire name\n",
    "zctas_fires = zctas_fires[['ZCTA5CE20', 'zcta_area', 'zcta_fire_intersection_area', 'incident_name', 'geometry']]"
   ]
  },
  {
   "cell_type": "code",
   "execution_count": null,
   "metadata": {},
   "outputs": [],
   "source": [
    "# drop geometery of zctas_fires\n",
    "#zctas_fires = zctas_fires.drop(columns='geometry')\n",
    "#  group by zcta and sum the variable zcta_fire_intersection_area\n",
    "zctas_fires_sum = zctas_fires.groupby('ZCTA5CE20').agg({\n",
    "    'zcta_fire_intersection_area': 'sum',\n",
    "    'zcta_area': 'first'  # or 'mean', 'max', etc., depending on your needs\n",
    "}).reset_index()\n",
    "\n"
   ]
  },
  {
   "cell_type": "code",
   "execution_count": null,
   "metadata": {},
   "outputs": [],
   "source": [
    "print(zctas_fires_sum)"
   ]
  },
  {
   "cell_type": "code",
   "execution_count": null,
   "metadata": {},
   "outputs": [],
   "source": [
    "# add col which is zcta_fire_intersection_area / zcta_area\n",
    "zctas_fires_sum['fire_area_ratio'] = zctas_fires_sum['zcta_fire_intersection_area'] / zctas_fires_sum['zcta_area'] * 100"
   ]
  },
  {
   "cell_type": "code",
   "execution_count": null,
   "metadata": {},
   "outputs": [],
   "source": [
    "print(zctas_fires_sum)"
   ]
  },
  {
   "cell_type": "code",
   "execution_count": null,
   "metadata": {},
   "outputs": [],
   "source": [
    "# rename ZCTA5CE20 to zcta\n",
    "zctas_fires_sum = zctas_fires_sum.rename(columns={'ZCTA5CE20': 'zcta'})"
   ]
  },
  {
   "cell_type": "code",
   "execution_count": null,
   "metadata": {},
   "outputs": [],
   "source": [
    "# read in kaiser zips\n",
    "import pandas as pd\n",
    "kaiser_zips = pd.read_csv('/Volumes/squirrel-utopia 1/los_angeles_2025_fire_disasters_exp/los_angeles_2025_fire_disasters_exp/data/kpsc_zcta_counts.csv')"
   ]
  },
  {
   "cell_type": "code",
   "execution_count": null,
   "metadata": {},
   "outputs": [],
   "source": [
    "# change zcta to character type\n",
    "kaiser_zips['zcta'] = kaiser_zips['zcta'].astype(str)\n",
    "# change in zcta_fires_sum to character type\n",
    "zctas_fires_sum['zcta'] = zctas_fires_sum['zcta'].astype(str)"
   ]
  },
  {
   "cell_type": "code",
   "execution_count": null,
   "metadata": {},
   "outputs": [],
   "source": [
    "print(kaiser_zips)"
   ]
  },
  {
   "cell_type": "code",
   "execution_count": null,
   "metadata": {},
   "outputs": [],
   "source": [
    "# left join kaiser zips to zctas_fires_sum\n",
    "zctas_fires_sum = zctas_fires_sum.merge(kaiser_zips, how='left')"
   ]
  },
  {
   "cell_type": "code",
   "execution_count": null,
   "metadata": {},
   "outputs": [],
   "source": [
    "print(zctas_fires_sum)"
   ]
  },
  {
   "cell_type": "code",
   "execution_count": null,
   "metadata": {},
   "outputs": [],
   "source": [
    "# change the fire area ratio to max out at 100 - zctas where it's higher \n",
    "# have that bc of the way the ZCTA file is set up\n",
    "zctas_fires_sum['fire_area_ratio'] = zctas_fires_sum['fire_area_ratio'].clip(upper=100)\n",
    "\n",
    "# make a new col fire_area_ratio times kaiser count\n",
    "zctas_fires_sum['ppl_affected'] = zctas_fires_sum['fire_area_ratio'] * zctas_fires_sum['kpsc_pop_age_60p']"
   ]
  },
  {
   "cell_type": "code",
   "execution_count": null,
   "metadata": {},
   "outputs": [],
   "source": [
    "# remove column classification\n",
    "#zctas_fires_sum = zctas_fires_sum.drop(columns='classification')\n",
    "\n",
    "# sort descending by ppl affected\n",
    "zctas_fires_sum = zctas_fires_sum.sort_values(by='ppl_affected', ascending=False)\n",
    "# round ppl affected up to the nearest integer\n",
    "zctas_fires_sum['ppl_affected'] = zctas_fires_sum['ppl_affected'].apply(lambda x: round(x))\n",
    "\n",
    "# write as csv\n",
    "zctas_fires_sum.to_csv('/Volumes/squirrel-utopia 1/los_angeles_2025_fire_disasters_exp/los_angeles_2025_fire_disasters_exp/data/num_kaiser_pop_age_60_affected_la_wf.csv', index=False)"
   ]
  },
  {
   "cell_type": "code",
   "execution_count": null,
   "metadata": {},
   "outputs": [],
   "source": [
    "jan16 = gpd.read_file(\"~/Desktop/Desktop/epidemiology_PhD/00_repos/los_angeles_2025_fire_disasters_exp/data/00_raw/calfire_boundaries/data_2025_01_16.geojson\")\n",
    "jan16[\"poly_DateCurrent\"] = jan16[\"poly_DateCurrent\"].dt.tz_convert('US/Pacific')\n",
    "jan16 = jan16[jan16['poly_DateCurrent'] > '2025-01-06']\n",
    "jan16[\"poly_DateCurrent\"] = jan16[\"poly_DateCurrent\"].dt.date\n",
    "jan16"
   ]
  },
  {
   "cell_type": "code",
   "execution_count": null,
   "metadata": {},
   "outputs": [],
   "source": [
    "jan17 = gpd.read_file(\"~/Desktop/Desktop/epidemiology_PhD/00_repos/los_angeles_2025_fire_disasters_exp/data/00_raw/calfire_boundaries/data_2025_01_17.geojson\")\n",
    "jan17[\"poly_DateCurrent\"] = jan17[\"poly_DateCurrent\"].dt.tz_convert('US/Pacific')\n",
    "jan17 = jan17[jan17['poly_DateCurrent'] > '2025-01-06']\n",
    "jan17[\"poly_DateCurrent\"] = jan17[\"poly_DateCurrent\"].dt.date\n",
    "jan17"
   ]
  },
  {
   "cell_type": "code",
   "execution_count": null,
   "metadata": {},
   "outputs": [],
   "source": [
    "jan21 = gpd.read_file(\"~/Desktop/Desktop/epidemiology_PhD/00_repos/los_angeles_2025_fire_disasters_exp/data/00_raw/calfire_boundaries/data_2025_01_17.geojson\")\n",
    "jan21[\"poly_DateCurrent\"] = jan21[\"poly_DateCurrent\"].dt.tz_convert('US/Pacific')\n",
    "jan21 = jan21[jan21['poly_DateCurrent'] > '2025-01-06']\n",
    "jan21[\"poly_DateCurrent\"] = jan21[\"poly_DateCurrent\"].dt.date\n",
    "jan21"
   ]
  },
  {
   "cell_type": "code",
   "execution_count": null,
   "metadata": {},
   "outputs": [],
   "source": [
    "jan16_global_ids = jan16[\"GlobalID\"].unique()\n",
    "jan17_global_ids = jan17[\"GlobalID\"].unique()\n",
    "jan21_global_ids = jan21[\"GlobalID\"].unique()\n",
    "\n",
    "# differences: \n",
    "jan16_global_ids = set(jan16_global_ids)\n",
    "jan17_global_ids = set(jan17_global_ids)\n",
    "jan21_global_ids = set(jan21_global_ids)\n",
    "unique17 = jan17_global_ids - jan16_global_ids\n",
    "unique16 = jan16_global_ids - jan17_global_ids\n",
    "unique21 = jan21_global_ids - jan17_global_ids\n",
    "unique17_from21 = jan17_global_ids - jan21_global_ids"
   ]
  },
  {
   "cell_type": "code",
   "execution_count": null,
   "metadata": {},
   "outputs": [],
   "source": [
    "# look at unique ids that show up on jan 17 not jan 16\n",
    "jan17[jan17[\"GlobalID\"].isin(unique17)]\n"
   ]
  },
  {
   "cell_type": "code",
   "execution_count": null,
   "metadata": {},
   "outputs": [],
   "source": [
    "jan16[jan16[\"GlobalID\"].isin(unique16)]\n"
   ]
  },
  {
   "cell_type": "code",
   "execution_count": null,
   "metadata": {},
   "outputs": [],
   "source": [
    "jan21[jan21[\"GlobalID\"].isin(unique21)]"
   ]
  },
  {
   "cell_type": "code",
   "execution_count": null,
   "metadata": {},
   "outputs": [],
   "source": [
    "jan17[jan17[\"GlobalID\"].isin(unique17_from21)]"
   ]
  },
  {
   "cell_type": "code",
   "execution_count": null,
   "metadata": {},
   "outputs": [],
   "source": []
  }
 ],
 "metadata": {
  "kernelspec": {
   "display_name": "la_fire",
   "language": "python",
   "name": "python3"
  },
  "language_info": {
   "codemirror_mode": {
    "name": "ipython",
    "version": 3
   },
   "file_extension": ".py",
   "mimetype": "text/x-python",
   "name": "python",
   "nbconvert_exporter": "python",
   "pygments_lexer": "ipython3",
   "version": "3.10.16"
  }
 },
 "nbformat": 4,
 "nbformat_minor": 2
}
