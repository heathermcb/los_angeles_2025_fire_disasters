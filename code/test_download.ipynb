{
 "cells": [
  {
   "cell_type": "code",
   "execution_count": 1,
   "metadata": {},
   "outputs": [],
   "source": [
    "import requests\n",
    "import os\n",
    "from datetime import datetime\n",
    "from pathlib import Path\n",
    "import pyarrow"
   ]
  },
  {
   "cell_type": "code",
   "execution_count": 2,
   "metadata": {},
   "outputs": [],
   "source": [
    "# URL of the file to download\n",
    "url = \"https://hub.arcgis.com/api/v3/datasets/025fb2ea05f14890b2b11573341b5b18_0/downloads/data?format=geojson&spatialRefId=4326&where=1%3D1\"\n"
   ]
  },
  {
   "cell_type": "code",
   "execution_count": 3,
   "metadata": {},
   "outputs": [],
   "source": [
    "# Directory to save the downloaded file\n",
    "output_dir = \"/Volumes/squirrel-utopia 1/los_angeles_2025_fire_disasters_exp/los_angeles_2025_fire_disasters_exp/data/calfire_boundaries\""
   ]
  },
  {
   "cell_type": "code",
   "execution_count": 4,
   "metadata": {},
   "outputs": [
    {
     "name": "stdout",
     "output_type": "stream",
     "text": [
      "data_2025_01_14.geojson\n",
      "/Volumes/squirrel-utopia 1/los_angeles_2025_fire_disasters_exp/los_angeles_2025_fire_disasters_exp/data/calfire_boundaries/data_2025_01_14.geojson\n"
     ]
    }
   ],
   "source": [
    "# Generate a filename with the current date\n",
    "filename = f\"data_{datetime.now().strftime('%Y_%m_%d')}.geojson\"\n",
    "output_path = os.path.join(output_dir, filename)\n",
    "print(filename)\n",
    "print(output_path)"
   ]
  },
  {
   "cell_type": "code",
   "execution_count": 5,
   "metadata": {},
   "outputs": [],
   "source": [
    "# Download the file\n",
    "response = requests.get(url)\n",
    "response.raise_for_status()  # Check if the request was successful"
   ]
  },
  {
   "cell_type": "code",
   "execution_count": 6,
   "metadata": {},
   "outputs": [
    {
     "name": "stdout",
     "output_type": "stream",
     "text": [
      "{'Date': 'Tue, 14 Jan 2025 20:13:30 GMT', 'Content-Type': 'application/json', 'Content-Length': '21940200', 'Connection': 'keep-alive', 'Vary': 'Accept-Encoding', 'Last-Modified': 'Tue, 14 Jan 2025 16:04:21 GMT', 'ETag': '\"d1149e6d9c4c183ce672ed173300fcaa-5\"', 'x-amz-server-side-encryption': 'AES256', 'Cache-Control': 'must-revalidate', 'x-amz-meta-cachetime': '952423', 'Content-Disposition': 'attachment; filename=\"CA_Perimeters_NIFC_FIRIS_public_view.geojson\"', 'Content-Encoding': 'gzip', 'x-amz-meta-contentlastmodified': '2025-01-14T07:20:16.440Z', 'Strict-Transport-Security': 'max-age=31536000', 'X-Content-Type-Options': 'nosniff', 'Content-Security-Policy': 'upgrade-insecure-requests'}\n"
     ]
    }
   ],
   "source": [
    "# view response\n",
    "print(response.headers)"
   ]
  },
  {
   "cell_type": "code",
   "execution_count": 7,
   "metadata": {},
   "outputs": [
    {
     "name": "stdout",
     "output_type": "stream",
     "text": [
      "File downloaded and saved as /Volumes/squirrel-utopia 1/los_angeles_2025_fire_disasters_exp/los_angeles_2025_fire_disasters_exp/data/calfire_boundaries/data_2025_01_14.geojson\n"
     ]
    }
   ],
   "source": [
    "with open(output_path, \"wb\") as file:\n",
    "    file.write(response.content)\n",
    "\n",
    "print(f\"File downloaded and saved as {output_path}\")"
   ]
  },
  {
   "cell_type": "code",
   "execution_count": 8,
   "metadata": {},
   "outputs": [],
   "source": [
    "# read that file and plot it\n",
    "import geopandas as gpd\n",
    "import matplotlib.pyplot as plt\n",
    "\n",
    "gdf = gpd.read_file(output_path)\n",
    " "
   ]
  },
  {
   "cell_type": "code",
   "execution_count": 9,
   "metadata": {},
   "outputs": [
    {
     "data": {
      "text/plain": [
       "<Axes: >"
      ]
     },
     "execution_count": 9,
     "metadata": {},
     "output_type": "execute_result"
    },
    {
     "data": {
      "image/png": "[encoded data removed]",
      "text/plain": [
       "<Figure size 640x480 with 1 Axes>"
      ]
     },
     "metadata": {},
     "output_type": "display_data"
    }
   ],
   "source": [
    "   \n",
    "\n",
    "# plot\n",
    "gdf.plot()"
   ]
  },
  {
   "cell_type": "code",
   "execution_count": 10,
   "metadata": {},
   "outputs": [
    {
     "name": "stdout",
     "output_type": "stream",
     "text": [
      "      OBJECTID                              GlobalID            type source  \\\n",
      "0            1  4c658021-4a6a-43b1-989a-ed8ad74c8737  Heat Perimeter   NIFC   \n",
      "1            2  8633c474-5701-47cb-9650-53f66778e374  Heat Perimeter  FIRIS   \n",
      "2            4  d38f2804-59d5-4529-8475-67434070fc20  Heat Perimeter  FIRIS   \n",
      "3            6  fa0e7fb1-08cf-4aa5-942c-81b300d02ccf  Heat Perimeter  FIRIS   \n",
      "4            7  7485825a-c647-43d7-b43f-7b2b7a56c570  Heat Perimeter  FIRIS   \n",
      "...        ...                                   ...             ...    ...   \n",
      "1200      1287  6d49f57d-5702-45f2-a1b3-e36a8e1ed97c  Heat Perimeter   NIFC   \n",
      "1201      1288  1f59de11-923c-4081-8145-c9152cd4d865  Heat Perimeter  FIRIS   \n",
      "1202      1289  b4d14153-fb41-4e5e-8be6-4d910df154b6  Heat Perimeter  FIRIS   \n",
      "1203      1290  77e24e42-336b-4743-8a60-ae9b5cb26aa1  Heat Perimeter  FIRIS   \n",
      "1204      1291  65fddb93-6376-436a-8f3e-176d5d38e416  Heat Perimeter  FIRIS   \n",
      "\n",
      "                     poly_DateCurrent                mission incident_name  \\\n",
      "0           2024-02-11 10:33:27+00:00      2024-CACDD-002185          IRIS   \n",
      "1           2024-02-21 21:08:25+00:00     CA-RVC-PALMAS-N40Y          None   \n",
      "2    2024-04-04 12:35:09.631000+00:00    CA-BDU-CARTAGO-N43U          None   \n",
      "3    2024-04-12 20:09:21.437000+00:00      CA-LNU-MARSH-N57B          None   \n",
      "4    2024-04-12 20:48:39.485000+00:00    CA-KRN-GARDNER-N43U          None   \n",
      "...                               ...                    ...           ...   \n",
      "1200        2025-01-08 14:31:44+00:00      2025-CALFD-000738     PALISADES   \n",
      "1201 2025-01-11 06:24:28.606000+00:00  CA-LFD-PALISADES-N40Y          None   \n",
      "1202 2025-01-11 07:10:56.707000+00:00      CA-LFD-EATON-N40Y          None   \n",
      "1203 2025-01-11 15:38:33.972000+00:00  CA-LFD-PALISADES-N40Y          None   \n",
      "1204 2025-01-14 07:19:31.222000+00:00       CA-VNC-AUTO-N40Y          None   \n",
      "\n",
      "        incident_number    area_acres                    description  \\\n",
      "0     2024-CACDD-002185     10.411850  Wildfire Daily Fire Perimeter   \n",
      "1                  None    284.111112                FIRIS Perimeter   \n",
      "2                  None    101.343848                FIRIS Perimeter   \n",
      "3                  None    304.138125                FIRIS Perimeter   \n",
      "4                  None     59.086175                FIRIS Perimeter   \n",
      "...                 ...           ...                            ...   \n",
      "1200  2025-CALFD-000738  21317.000000  Wildfire Daily Fire Perimeter   \n",
      "1201               None  21595.790548                FIRIS Perimeter   \n",
      "1202               None  13993.151114                FIRIS Perimeter   \n",
      "1203               None  22660.483014                FIRIS Perimeter   \n",
      "1204               None     55.696310                FIRIS Perimeter   \n",
      "\n",
      "             FireDiscoveryDate                     CreationDate  \\\n",
      "0    2024-02-11 04:33:27+00:00        2024-02-11 16:01:16+00:00   \n",
      "1                          NaT        2024-02-21 21:05:09+00:00   \n",
      "2                          NaT        2024-04-04 12:29:07+00:00   \n",
      "3                          NaT        2024-04-12 20:08:23+00:00   \n",
      "4                          NaT        2024-04-12 20:44:23+00:00   \n",
      "...                        ...                              ...   \n",
      "1200 2025-01-07 18:38:00+00:00 2025-01-08 06:00:47.376000+00:00   \n",
      "1201                       NaT        2025-01-11 06:21:48+00:00   \n",
      "1202                       NaT        2025-01-11 07:09:33+00:00   \n",
      "1203                       NaT        2025-01-11 15:36:50+00:00   \n",
      "1204                       NaT        2025-01-14 07:17:19+00:00   \n",
      "\n",
      "                             EditDate displayStatus  \\\n",
      "0           2024-02-12 17:16:33+00:00      Inactive   \n",
      "1           2024-02-21 21:10:37+00:00      Inactive   \n",
      "2    2024-04-04 12:38:54.561000+00:00      Inactive   \n",
      "3    2024-04-12 20:11:46.323000+00:00      Inactive   \n",
      "4    2024-04-12 20:51:02.107000+00:00      Inactive   \n",
      "...                               ...           ...   \n",
      "1200        2025-01-11 05:28:47+00:00        Active   \n",
      "1201                              NaT        Active   \n",
      "1202                              NaT        Active   \n",
      "1203                              NaT        Active   \n",
      "1204                              NaT        Active   \n",
      "\n",
      "                                               geometry  \n",
      "0     POLYGON ((-115.5 33.289, -115.5 33.289, -115.5...  \n",
      "1     POLYGON ((-115.83 33.509, -115.83 33.509, -115...  \n",
      "2     POLYGON ((-118.02 36.304, -118.02 36.304, -118...  \n",
      "3     POLYGON ((-121.83 38.057, -121.83 38.057, -121...  \n",
      "4     MULTIPOLYGON (((-119.4 35.153, -119.4 35.153, ...  \n",
      "...                                                 ...  \n",
      "1200  MULTIPOLYGON (((-118.56 34.044, -118.56 34.044...  \n",
      "1201  MULTIPOLYGON (((-118.51 34.117, -118.51 34.117...  \n",
      "1202  MULTIPOLYGON (((-118.08 34.238, -118.08 34.238...  \n",
      "1203  MULTIPOLYGON (((-118.51 34.117, -118.51 34.117...  \n",
      "1204  MULTIPOLYGON (((-119.21 34.236, -119.21 34.236...  \n",
      "\n",
      "[1205 rows x 15 columns]\n"
     ]
    }
   ],
   "source": [
    "print(gdf)\n"
   ]
  },
  {
   "cell_type": "code",
   "execution_count": 11,
   "metadata": {},
   "outputs": [
    {
     "name": "stdout",
     "output_type": "stream",
     "text": [
      "Index(['OBJECTID', 'GlobalID', 'type', 'source', 'poly_DateCurrent', 'mission',\n",
      "       'incident_name', 'incident_number', 'area_acres', 'description',\n",
      "       'FireDiscoveryDate', 'CreationDate', 'EditDate', 'displayStatus',\n",
      "       'geometry'],\n",
      "      dtype='object')\n",
      "   OBJECTID                              GlobalID            type source  \\\n",
      "0         1  4c658021-4a6a-43b1-989a-ed8ad74c8737  Heat Perimeter   NIFC   \n",
      "1         2  8633c474-5701-47cb-9650-53f66778e374  Heat Perimeter  FIRIS   \n",
      "2         4  d38f2804-59d5-4529-8475-67434070fc20  Heat Perimeter  FIRIS   \n",
      "3         6  fa0e7fb1-08cf-4aa5-942c-81b300d02ccf  Heat Perimeter  FIRIS   \n",
      "4         7  7485825a-c647-43d7-b43f-7b2b7a56c570  Heat Perimeter  FIRIS   \n",
      "\n",
      "                  poly_DateCurrent              mission incident_name  \\\n",
      "0        2024-02-11 10:33:27+00:00    2024-CACDD-002185          IRIS   \n",
      "1        2024-02-21 21:08:25+00:00   CA-RVC-PALMAS-N40Y          None   \n",
      "2 2024-04-04 12:35:09.631000+00:00  CA-BDU-CARTAGO-N43U          None   \n",
      "3 2024-04-12 20:09:21.437000+00:00    CA-LNU-MARSH-N57B          None   \n",
      "4 2024-04-12 20:48:39.485000+00:00  CA-KRN-GARDNER-N43U          None   \n",
      "\n",
      "     incident_number  area_acres                    description  \\\n",
      "0  2024-CACDD-002185   10.411850  Wildfire Daily Fire Perimeter   \n",
      "1               None  284.111112                FIRIS Perimeter   \n",
      "2               None  101.343848                FIRIS Perimeter   \n",
      "3               None  304.138125                FIRIS Perimeter   \n",
      "4               None   59.086175                FIRIS Perimeter   \n",
      "\n",
      "          FireDiscoveryDate              CreationDate  \\\n",
      "0 2024-02-11 04:33:27+00:00 2024-02-11 16:01:16+00:00   \n",
      "1                       NaT 2024-02-21 21:05:09+00:00   \n",
      "2                       NaT 2024-04-04 12:29:07+00:00   \n",
      "3                       NaT 2024-04-12 20:08:23+00:00   \n",
      "4                       NaT 2024-04-12 20:44:23+00:00   \n",
      "\n",
      "                          EditDate displayStatus  \\\n",
      "0        2024-02-12 17:16:33+00:00      Inactive   \n",
      "1        2024-02-21 21:10:37+00:00      Inactive   \n",
      "2 2024-04-04 12:38:54.561000+00:00      Inactive   \n",
      "3 2024-04-12 20:11:46.323000+00:00      Inactive   \n",
      "4 2024-04-12 20:51:02.107000+00:00      Inactive   \n",
      "\n",
      "                                            geometry  \n",
      "0  POLYGON ((-115.5 33.289, -115.5 33.289, -115.5...  \n",
      "1  POLYGON ((-115.83 33.509, -115.83 33.509, -115...  \n",
      "2  POLYGON ((-118.02 36.304, -118.02 36.304, -118...  \n",
      "3  POLYGON ((-121.83 38.057, -121.83 38.057, -121...  \n",
      "4  MULTIPOLYGON (((-119.4 35.153, -119.4 35.153, ...  \n",
      "datetime64[ms, UTC]\n",
      "      OBJECTID                              GlobalID            type source  \\\n",
      "0            1  4c658021-4a6a-43b1-989a-ed8ad74c8737  Heat Perimeter   NIFC   \n",
      "1            2  8633c474-5701-47cb-9650-53f66778e374  Heat Perimeter  FIRIS   \n",
      "2            4  d38f2804-59d5-4529-8475-67434070fc20  Heat Perimeter  FIRIS   \n",
      "3            6  fa0e7fb1-08cf-4aa5-942c-81b300d02ccf  Heat Perimeter  FIRIS   \n",
      "4            7  7485825a-c647-43d7-b43f-7b2b7a56c570  Heat Perimeter  FIRIS   \n",
      "...        ...                                   ...             ...    ...   \n",
      "1200      1287  6d49f57d-5702-45f2-a1b3-e36a8e1ed97c  Heat Perimeter   NIFC   \n",
      "1201      1288  1f59de11-923c-4081-8145-c9152cd4d865  Heat Perimeter  FIRIS   \n",
      "1202      1289  b4d14153-fb41-4e5e-8be6-4d910df154b6  Heat Perimeter  FIRIS   \n",
      "1203      1290  77e24e42-336b-4743-8a60-ae9b5cb26aa1  Heat Perimeter  FIRIS   \n",
      "1204      1291  65fddb93-6376-436a-8f3e-176d5d38e416  Heat Perimeter  FIRIS   \n",
      "\n",
      "                     poly_DateCurrent                mission incident_name  \\\n",
      "0           2024-02-11 10:33:27+00:00      2024-CACDD-002185          IRIS   \n",
      "1           2024-02-21 21:08:25+00:00     CA-RVC-PALMAS-N40Y          None   \n",
      "2    2024-04-04 12:35:09.631000+00:00    CA-BDU-CARTAGO-N43U          None   \n",
      "3    2024-04-12 20:09:21.437000+00:00      CA-LNU-MARSH-N57B          None   \n",
      "4    2024-04-12 20:48:39.485000+00:00    CA-KRN-GARDNER-N43U          None   \n",
      "...                               ...                    ...           ...   \n",
      "1200        2025-01-08 14:31:44+00:00      2025-CALFD-000738     PALISADES   \n",
      "1201 2025-01-11 06:24:28.606000+00:00  CA-LFD-PALISADES-N40Y          None   \n",
      "1202 2025-01-11 07:10:56.707000+00:00      CA-LFD-EATON-N40Y          None   \n",
      "1203 2025-01-11 15:38:33.972000+00:00  CA-LFD-PALISADES-N40Y          None   \n",
      "1204 2025-01-14 07:19:31.222000+00:00       CA-VNC-AUTO-N40Y          None   \n",
      "\n",
      "        incident_number    area_acres                    description  \\\n",
      "0     2024-CACDD-002185     10.411850  Wildfire Daily Fire Perimeter   \n",
      "1                  None    284.111112                FIRIS Perimeter   \n",
      "2                  None    101.343848                FIRIS Perimeter   \n",
      "3                  None    304.138125                FIRIS Perimeter   \n",
      "4                  None     59.086175                FIRIS Perimeter   \n",
      "...                 ...           ...                            ...   \n",
      "1200  2025-CALFD-000738  21317.000000  Wildfire Daily Fire Perimeter   \n",
      "1201               None  21595.790548                FIRIS Perimeter   \n",
      "1202               None  13993.151114                FIRIS Perimeter   \n",
      "1203               None  22660.483014                FIRIS Perimeter   \n",
      "1204               None     55.696310                FIRIS Perimeter   \n",
      "\n",
      "             FireDiscoveryDate                     CreationDate  \\\n",
      "0    2024-02-11 04:33:27+00:00        2024-02-11 16:01:16+00:00   \n",
      "1                          NaT        2024-02-21 21:05:09+00:00   \n",
      "2                          NaT        2024-04-04 12:29:07+00:00   \n",
      "3                          NaT        2024-04-12 20:08:23+00:00   \n",
      "4                          NaT        2024-04-12 20:44:23+00:00   \n",
      "...                        ...                              ...   \n",
      "1200 2025-01-07 18:38:00+00:00 2025-01-08 06:00:47.376000+00:00   \n",
      "1201                       NaT        2025-01-11 06:21:48+00:00   \n",
      "1202                       NaT        2025-01-11 07:09:33+00:00   \n",
      "1203                       NaT        2025-01-11 15:36:50+00:00   \n",
      "1204                       NaT        2025-01-14 07:17:19+00:00   \n",
      "\n",
      "                             EditDate displayStatus  \\\n",
      "0           2024-02-12 17:16:33+00:00      Inactive   \n",
      "1           2024-02-21 21:10:37+00:00      Inactive   \n",
      "2    2024-04-04 12:38:54.561000+00:00      Inactive   \n",
      "3    2024-04-12 20:11:46.323000+00:00      Inactive   \n",
      "4    2024-04-12 20:51:02.107000+00:00      Inactive   \n",
      "...                               ...           ...   \n",
      "1200        2025-01-11 05:28:47+00:00        Active   \n",
      "1201                              NaT        Active   \n",
      "1202                              NaT        Active   \n",
      "1203                              NaT        Active   \n",
      "1204                              NaT        Active   \n",
      "\n",
      "                                               geometry  \n",
      "0     POLYGON ((-115.5 33.289, -115.5 33.289, -115.5...  \n",
      "1     POLYGON ((-115.83 33.509, -115.83 33.509, -115...  \n",
      "2     POLYGON ((-118.02 36.304, -118.02 36.304, -118...  \n",
      "3     POLYGON ((-121.83 38.057, -121.83 38.057, -121...  \n",
      "4     MULTIPOLYGON (((-119.4 35.153, -119.4 35.153, ...  \n",
      "...                                                 ...  \n",
      "1200  MULTIPOLYGON (((-118.56 34.044, -118.56 34.044...  \n",
      "1201  MULTIPOLYGON (((-118.51 34.117, -118.51 34.117...  \n",
      "1202  MULTIPOLYGON (((-118.08 34.238, -118.08 34.238...  \n",
      "1203  MULTIPOLYGON (((-118.51 34.117, -118.51 34.117...  \n",
      "1204  MULTIPOLYGON (((-119.21 34.236, -119.21 34.236...  \n",
      "\n",
      "[1205 rows x 15 columns]\n"
     ]
    }
   ],
   "source": [
    "# print column names\n",
    "print(gdf.columns)\n",
    "# print head\n",
    "print(gdf.head())\n",
    "# get class of poly_DateC\n",
    "print(gdf['poly_DateCurrent'].dtype)\n",
    "# view whole dataset\n",
    "print(gdf)\n",
    "\n",
    "\n",
    "# filter to dates january 7th or later\n",
    "#gdf['datetime'] = pd.to_datetime(gdf['datetime'])"
   ]
  },
  {
   "cell_type": "code",
   "execution_count": 12,
   "metadata": {},
   "outputs": [],
   "source": [
    "# going to treat polydate as the relevant date\n",
    "# sort shape to only include dates after january 6th\n",
    "gdf = gdf[gdf['poly_DateCurrent'] > '2025-01-06']\n"
   ]
  },
  {
   "cell_type": "code",
   "execution_count": 13,
   "metadata": {},
   "outputs": [
    {
     "data": {
      "text/plain": [
       "<Axes: >"
      ]
     },
     "execution_count": 13,
     "metadata": {},
     "output_type": "execute_result"
    },
    {
     "data": {
      "image/png": "[encoded data removed]",
      "text/plain": [
       "<Figure size 640x480 with 1 Axes>"
      ]
     },
     "metadata": {},
     "output_type": "display_data"
    }
   ],
   "source": [
    "# plot\n",
    "gdf.plot()"
   ]
  },
  {
   "cell_type": "code",
   "execution_count": 26,
   "metadata": {},
   "outputs": [],
   "source": [
    "import pyarrow\n",
    "# read in zctas from data folder\n",
    "zctas = gpd.read_parquet('/Volumes/squirrel-utopia 1/los_angeles_2025_fire_disasters_exp/los_angeles_2025_fire_disasters_exp/data/zctas_2020.parquet')"
   ]
  },
  {
   "cell_type": "code",
   "execution_count": 22,
   "metadata": {},
   "outputs": [
    {
     "data": {
      "text/plain": [
       "<Axes: >"
      ]
     },
     "execution_count": 22,
     "metadata": {},
     "output_type": "execute_result"
    },
    {
     "data": {
      "image/png": "[encoded data removed]",
      "text/plain": [
       "<Figure size 640x480 with 1 Axes>"
      ]
     },
     "metadata": {},
     "output_type": "display_data"
    }
   ],
   "source": [
    "# plot\n",
    "zctas.plot()"
   ]
  },
  {
   "cell_type": "code",
   "execution_count": 27,
   "metadata": {},
   "outputs": [
    {
     "name": "stdout",
     "output_type": "stream",
     "text": [
      "GEOGCRS[\"GCS_North_American_1983\",\n",
      "    DATUM[\"D_North_American_1983\",\n",
      "        ELLIPSOID[\"GRS_1980\",6378137,298.257222101,\n",
      "            LENGTHUNIT[\"metre\",1,\n",
      "                ID[\"EPSG\",9001]]]],\n",
      "    PRIMEM[\"Greenwich\",0,\n",
      "        ANGLEUNIT[\"Degree\",0.0174532925199433]],\n",
      "    CS[ellipsoidal,2],\n",
      "        AXIS[\"longitude\",east,\n",
      "            ORDER[1],\n",
      "            ANGLEUNIT[\"Degree\",0.0174532925199433]],\n",
      "        AXIS[\"latitude\",north,\n",
      "            ORDER[2],\n",
      "            ANGLEUNIT[\"Degree\",0.0174532925199433]]]\n",
      "GEOGCRS[\"GCS_North_American_1983\",\n",
      "    DATUM[\"D_North_American_1983\",\n",
      "        ELLIPSOID[\"GRS_1980\",6378137,298.257222101,\n",
      "            LENGTHUNIT[\"metre\",1,\n",
      "                ID[\"EPSG\",9001]]]],\n",
      "    PRIMEM[\"Greenwich\",0,\n",
      "        ANGLEUNIT[\"Degree\",0.0174532925199433]],\n",
      "    CS[ellipsoidal,2],\n",
      "        AXIS[\"longitude\",east,\n",
      "            ORDER[1],\n",
      "            ANGLEUNIT[\"Degree\",0.0174532925199433]],\n",
      "        AXIS[\"latitude\",north,\n",
      "            ORDER[2],\n",
      "            ANGLEUNIT[\"Degree\",0.0174532925199433]]]\n"
     ]
    }
   ],
   "source": [
    "# find zcta crs\n",
    "print(zctas.crs)\n",
    "# find fire crs\n",
    "print(gdf.crs)"
   ]
  },
  {
   "cell_type": "code",
   "execution_count": 28,
   "metadata": {},
   "outputs": [],
   "source": [
    "# convert fires to zcta crs\n",
    "gdf = gdf.to_crs(zctas.crs)\n"
   ]
  },
  {
   "cell_type": "code",
   "execution_count": 29,
   "metadata": {},
   "outputs": [
    {
     "name": "stderr",
     "output_type": "stream",
     "text": [
      "/var/folders/8y/9yw138b95kjd5wjs3my5vy900000gn/T/ipykernel_25049/128566475.py:2: UserWarning: Geometry is in a geographic CRS. Results from 'area' are likely incorrect. Use 'GeoSeries.to_crs()' to re-project geometries to a projected CRS before this operation.\n",
      "\n",
      "  zctas['zcta_area'] = zctas.area\n"
     ]
    }
   ],
   "source": [
    "# add column which is area of each zcta\n",
    "zctas['zcta_area'] = zctas.area"
   ]
  },
  {
   "cell_type": "code",
   "execution_count": 38,
   "metadata": {},
   "outputs": [
    {
     "data": {
      "text/plain": [
       "<Axes: >"
      ]
     },
     "execution_count": 38,
     "metadata": {},
     "output_type": "execute_result"
    },
    {
     "data": {
      "image/png": "[encoded data removed]",
      "text/plain": [
       "<Figure size 640x480 with 1 Axes>"
      ]
     },
     "metadata": {},
     "output_type": "display_data"
    }
   ],
   "source": [
    "# intersect zctas with fires \n",
    "zctas_fires = gpd.overlay(zctas, gdf, how='intersection')\n",
    "# plot\n",
    "zctas_fires.plot()"
   ]
  },
  {
   "cell_type": "code",
   "execution_count": null,
   "metadata": {},
   "outputs": [],
   "source": []
  },
  {
   "cell_type": "code",
   "execution_count": 39,
   "metadata": {},
   "outputs": [
    {
     "name": "stderr",
     "output_type": "stream",
     "text": [
      "/var/folders/8y/9yw138b95kjd5wjs3my5vy900000gn/T/ipykernel_25049/3410830837.py:2: UserWarning: Geometry is in a geographic CRS. Results from 'area' are likely incorrect. Use 'GeoSeries.to_crs()' to re-project geometries to a projected CRS before this operation.\n",
      "\n",
      "  zctas_fires['zcta_fire_intersection_area'] = zctas_fires.area\n"
     ]
    }
   ],
   "source": [
    "# add column which is area of intersection\n",
    "zctas_fires['zcta_fire_intersection_area'] = zctas_fires.area"
   ]
  },
  {
   "cell_type": "code",
   "execution_count": 40,
   "metadata": {},
   "outputs": [
    {
     "name": "stdout",
     "output_type": "stream",
     "text": [
      "    ZCTA5CE20 GEOID20 CLASSFP20 MTFCC20 FUNCSTAT20      ALAND20  AWATER20  \\\n",
      "0       91001   91001        B5   G6350          S   21393347.0   91219.0   \n",
      "1       91001   91001        B5   G6350          S   21393347.0   91219.0   \n",
      "2       91001   91001        B5   G6350          S   21393347.0   91219.0   \n",
      "3       91001   91001        B5   G6350          S   21393347.0   91219.0   \n",
      "4       91302   91302        B5   G6350          S   71094708.0  116015.0   \n",
      "..        ...     ...       ...     ...        ...          ...       ...   \n",
      "103     91342   91342        B5   G6350          S  117701198.0   80521.0   \n",
      "104     91342   91342        B5   G6350          S  117701198.0   80521.0   \n",
      "105     91342   91342        B5   G6350          S  117701198.0   80521.0   \n",
      "106     93510   93510        B5   G6350          S  207399594.0   35388.0   \n",
      "107     93003   93003        B5   G6350          S   53832749.0  242915.0   \n",
      "\n",
      "      INTPTLAT20    INTPTLON20  zcta_area  ...  incident_name incident_number  \\\n",
      "0    +34.1944893  -118.1382630   0.002101  ...           None            None   \n",
      "1    +34.1944893  -118.1382630   0.002101  ...          Eaton                   \n",
      "2    +34.1944893  -118.1382630   0.002101  ...           None            None   \n",
      "3    +34.1944893  -118.1382630   0.002101  ...           None            None   \n",
      "4    +34.1225565  -118.6698213   0.006959  ...           None            None   \n",
      "..           ...           ...        ...  ...            ...             ...   \n",
      "103  +34.3265845  -118.3822613   0.011536  ...           None            None   \n",
      "104  +34.3265845  -118.3822613   0.011536  ...          HURST                   \n",
      "105  +34.3265845  -118.3822613   0.011536  ...          HURST                   \n",
      "106  +34.4509057  -118.2276141   0.020350  ...           None            None   \n",
      "107  +34.2836678  -119.2231961   0.005294  ...           None            None   \n",
      "\n",
      "       area_acres      description FireDiscoveryDate  \\\n",
      "0    10589.956010  FIRIS Perimeter               NaT   \n",
      "1    13299.260000    Mixed Methods               NaT   \n",
      "2    13956.367609  FIRIS Perimeter               NaT   \n",
      "3    13993.151114  FIRIS Perimeter               NaT   \n",
      "4    15832.376531  FIRIS Perimeter               NaT   \n",
      "..            ...              ...               ...   \n",
      "103    663.395358  FIRIS Perimeter               NaT   \n",
      "104    831.390000    Mixed Methods               NaT   \n",
      "105    831.390000    Mixed Methods               NaT   \n",
      "106    347.704224  FIRIS Perimeter               NaT   \n",
      "107     55.696310  FIRIS Perimeter               NaT   \n",
      "\n",
      "                 CreationDate EditDate displayStatus  \\\n",
      "0   2025-01-09 02:27:13+00:00      NaT        Active   \n",
      "1                         NaT      NaT        Active   \n",
      "2   2025-01-10 14:22:08+00:00      NaT        Active   \n",
      "3   2025-01-11 07:09:33+00:00      NaT        Active   \n",
      "4   2025-01-08 21:05:56+00:00      NaT        Active   \n",
      "..                        ...      ...           ...   \n",
      "103 2025-01-09 03:34:24+00:00      NaT        Active   \n",
      "104                       NaT      NaT        Active   \n",
      "105                       NaT      NaT        Active   \n",
      "106 2025-01-09 01:26:26+00:00      NaT        Active   \n",
      "107 2025-01-14 07:17:19+00:00      NaT        Active   \n",
      "\n",
      "                                              geometry  \\\n",
      "0    MULTIPOLYGON (((-118.15 34.219, -118.15 34.219...   \n",
      "1    MULTIPOLYGON (((-118.16 34.219, -118.15 34.219...   \n",
      "2    MULTIPOLYGON (((-118.16 34.219, -118.16 34.219...   \n",
      "3    MULTIPOLYGON (((-118.16 34.219, -118.16 34.219...   \n",
      "4    MULTIPOLYGON (((-118.64 34.082, -118.64 34.081...   \n",
      "..                                                 ...   \n",
      "103  MULTIPOLYGON (((-118.49 34.334, -118.49 34.334...   \n",
      "104  MULTIPOLYGON (((-118.49 34.334, -118.49 34.334...   \n",
      "105  MULTIPOLYGON (((-118.49 34.334, -118.49 34.334...   \n",
      "106  POLYGON ((-118.26 34.434, -118.26 34.434, -118...   \n",
      "107  MULTIPOLYGON (((-119.21 34.236, -119.21 34.236...   \n",
      "\n",
      "    zcta_fire_intersection_area  \n",
      "0                      0.001215  \n",
      "1                      0.001235  \n",
      "2                      0.001332  \n",
      "3                      0.001332  \n",
      "4                      0.000003  \n",
      "..                          ...  \n",
      "103                    0.000061  \n",
      "104                    0.000111  \n",
      "105                    0.000111  \n",
      "106                    0.000138  \n",
      "107                    0.000022  \n",
      "\n",
      "[108 rows x 26 columns]\n"
     ]
    }
   ],
   "source": [
    "# view the zctas_fires dataframe\n",
    "print(zctas_fires)"
   ]
  },
  {
   "cell_type": "code",
   "execution_count": 41,
   "metadata": {},
   "outputs": [],
   "source": [
    "# from zctas_fires, select zcta name, zcta area, and zcta fire intersection area, and fire name\n",
    "zctas_fires = zctas_fires[['ZCTA5CE20', 'zcta_area', 'zcta_fire_intersection_area', 'incident_name', 'geometry']]"
   ]
  },
  {
   "cell_type": "code",
   "execution_count": 45,
   "metadata": {},
   "outputs": [],
   "source": [
    "# drop geometery of zctas_fires\n",
    "#zctas_fires = zctas_fires.drop(columns='geometry')\n",
    "#  group by zcta and sum the variable zcta_fire_intersection_area\n",
    "zctas_fires_sum = zctas_fires.groupby('ZCTA5CE20').agg({\n",
    "    'zcta_fire_intersection_area': 'sum',\n",
    "    'zcta_area': 'first'  # or 'mean', 'max', etc., depending on your needs\n",
    "}).reset_index()\n",
    "\n"
   ]
  },
  {
   "cell_type": "code",
   "execution_count": null,
   "metadata": {},
   "outputs": [],
   "source": [
    "print(zctas_fires_sum)"
   ]
  },
  {
   "cell_type": "code",
   "execution_count": 47,
   "metadata": {},
   "outputs": [],
   "source": [
    "# add col which is zcta_fire_intersection_area / zcta_area\n",
    "zctas_fires_sum['fire_area_ratio'] = zctas_fires_sum['zcta_fire_intersection_area'] / zctas_fires_sum['zcta_area'] * 100"
   ]
  },
  {
   "cell_type": "code",
   "execution_count": null,
   "metadata": {},
   "outputs": [],
   "source": [
    "print(zctas_fires_sum)"
   ]
  },
  {
   "cell_type": "code",
   "execution_count": 50,
   "metadata": {},
   "outputs": [],
   "source": [
    "# rename ZCTA5CE20 to zcta\n",
    "zctas_fires_sum = zctas_fires_sum.rename(columns={'ZCTA5CE20': 'zcta'})"
   ]
  },
  {
   "cell_type": "code",
   "execution_count": 48,
   "metadata": {},
   "outputs": [],
   "source": [
    "# read in kaiser zips\n",
    "import pandas as pd\n",
    "kaiser_zips = pd.read_csv('/Volumes/squirrel-utopia 1/los_angeles_2025_fire_disasters_exp/los_angeles_2025_fire_disasters_exp/data/kpsc_zcta_counts.csv')"
   ]
  },
  {
   "cell_type": "code",
   "execution_count": 53,
   "metadata": {},
   "outputs": [],
   "source": [
    "# change zcta to character type\n",
    "kaiser_zips['zcta'] = kaiser_zips['zcta'].astype(str)\n",
    "# change in zcta_fires_sum to character type\n",
    "zctas_fires_sum['zcta'] = zctas_fires_sum['zcta'].astype(str)"
   ]
  },
  {
   "cell_type": "code",
   "execution_count": null,
   "metadata": {},
   "outputs": [],
   "source": [
    "print(kaiser_zips)"
   ]
  },
  {
   "cell_type": "code",
   "execution_count": 54,
   "metadata": {},
   "outputs": [],
   "source": [
    "# left join kaiser zips to zctas_fires_sum\n",
    "zctas_fires_sum = zctas_fires_sum.merge(kaiser_zips, how='left')"
   ]
  },
  {
   "cell_type": "code",
   "execution_count": null,
   "metadata": {},
   "outputs": [],
   "source": [
    "print(zctas_fires_sum)"
   ]
  },
  {
   "cell_type": "code",
   "execution_count": null,
   "metadata": {},
   "outputs": [],
   "source": [
    "# change the fire area ratio to max out at 100 - zctas where it's higher \n",
    "# have that bc of the way the ZCTA file is set up\n",
    "zctas_fires_sum['fire_area_ratio'] = zctas_fires_sum['fire_area_ratio'].clip(upper=100)\n",
    "\n",
    "# make a new col fire_area_ratio times kaiser count\n",
    "zctas_fires_sum['ppl_affected'] = zctas_fires_sum['fire_area_ratio'] * zctas_fires_sum['kpsc_pop_age_60p']"
   ]
  },
  {
   "cell_type": "code",
   "execution_count": 59,
   "metadata": {},
   "outputs": [],
   "source": [
    "# remove column classification\n",
    "#zctas_fires_sum = zctas_fires_sum.drop(columns='classification')\n",
    "\n",
    "# sort descending by ppl affected\n",
    "zctas_fires_sum = zctas_fires_sum.sort_values(by='ppl_affected', ascending=False)\n",
    "# round ppl affected up to the nearest integer\n",
    "zctas_fires_sum['ppl_affected'] = zctas_fires_sum['ppl_affected'].apply(lambda x: round(x))\n",
    "\n",
    "# write as csv\n",
    "zctas_fires_sum.to_csv('/Volumes/squirrel-utopia 1/los_angeles_2025_fire_disasters_exp/los_angeles_2025_fire_disasters_exp/data/num_kaiser_pop_age_60_affected_la_wf.csv', index=False)"
   ]
  }
 ],
 "metadata": {
  "kernelspec": {
   "display_name": "Python 3",
   "language": "python",
   "name": "python3"
  },
  "language_info": {
   "codemirror_mode": {
    "name": "ipython",
    "version": 3
   },
   "file_extension": ".py",
   "mimetype": "text/x-python",
   "name": "python",
   "nbconvert_exporter": "python",
   "pygments_lexer": "ipython3",
   "version": "3.12.2"
  }
 },
 "nbformat": 4,
 "nbformat_minor": 2
}
